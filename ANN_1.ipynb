{
  "cells": [
    {
      "cell_type": "markdown",
      "metadata": {
        "id": "view-in-github",
        "colab_type": "text"
      },
      "source": [
        "<a href=\"https://colab.research.google.com/github/nishant-harinkhede12/NLP-and-Deep-Learing/blob/main/ANN_1.ipynb\" target=\"_parent\"><img src=\"https://colab.research.google.com/assets/colab-badge.svg\" alt=\"Open In Colab\"/></a>"
      ]
    },
    {
      "cell_type": "code",
      "execution_count": 1,
      "metadata": {
        "colab": {
          "base_uri": "https://localhost:8080/"
        },
        "id": "jRF5XrxWgn72",
        "outputId": "319c44cd-0285-4ac5-a1b2-9c9d514106cf"
      },
      "outputs": [
        {
          "output_type": "stream",
          "name": "stdout",
          "text": [
            "Looking in indexes: https://pypi.org/simple, https://us-python.pkg.dev/colab-wheels/public/simple/\n",
            "Requirement already satisfied: tensorflow in /usr/local/lib/python3.7/dist-packages (2.8.2+zzzcolab20220719082949)\n",
            "Requirement already satisfied: astunparse>=1.6.0 in /usr/local/lib/python3.7/dist-packages (from tensorflow) (1.6.3)\n",
            "Requirement already satisfied: libclang>=9.0.1 in /usr/local/lib/python3.7/dist-packages (from tensorflow) (14.0.6)\n",
            "Requirement already satisfied: six>=1.12.0 in /usr/local/lib/python3.7/dist-packages (from tensorflow) (1.15.0)\n",
            "Requirement already satisfied: setuptools in /usr/local/lib/python3.7/dist-packages (from tensorflow) (57.4.0)\n",
            "Requirement already satisfied: opt-einsum>=2.3.2 in /usr/local/lib/python3.7/dist-packages (from tensorflow) (3.3.0)\n",
            "Requirement already satisfied: gast>=0.2.1 in /usr/local/lib/python3.7/dist-packages (from tensorflow) (0.5.3)\n",
            "Requirement already satisfied: keras-preprocessing>=1.1.1 in /usr/local/lib/python3.7/dist-packages (from tensorflow) (1.1.2)\n",
            "Requirement already satisfied: flatbuffers>=1.12 in /usr/local/lib/python3.7/dist-packages (from tensorflow) (2.0.7)\n",
            "Requirement already satisfied: numpy>=1.20 in /usr/local/lib/python3.7/dist-packages (from tensorflow) (1.21.6)\n",
            "Requirement already satisfied: google-pasta>=0.1.1 in /usr/local/lib/python3.7/dist-packages (from tensorflow) (0.2.0)\n",
            "Requirement already satisfied: tensorflow-io-gcs-filesystem>=0.23.1 in /usr/local/lib/python3.7/dist-packages (from tensorflow) (0.26.0)\n",
            "Requirement already satisfied: typing-extensions>=3.6.6 in /usr/local/lib/python3.7/dist-packages (from tensorflow) (4.1.1)\n",
            "Requirement already satisfied: h5py>=2.9.0 in /usr/local/lib/python3.7/dist-packages (from tensorflow) (3.1.0)\n",
            "Requirement already satisfied: protobuf<3.20,>=3.9.2 in /usr/local/lib/python3.7/dist-packages (from tensorflow) (3.17.3)\n",
            "Requirement already satisfied: absl-py>=0.4.0 in /usr/local/lib/python3.7/dist-packages (from tensorflow) (1.2.0)\n",
            "Requirement already satisfied: wrapt>=1.11.0 in /usr/local/lib/python3.7/dist-packages (from tensorflow) (1.14.1)\n",
            "Requirement already satisfied: tensorboard<2.9,>=2.8 in /usr/local/lib/python3.7/dist-packages (from tensorflow) (2.8.0)\n",
            "Requirement already satisfied: keras<2.9,>=2.8.0rc0 in /usr/local/lib/python3.7/dist-packages (from tensorflow) (2.8.0)\n",
            "Requirement already satisfied: grpcio<2.0,>=1.24.3 in /usr/local/lib/python3.7/dist-packages (from tensorflow) (1.48.1)\n",
            "Requirement already satisfied: termcolor>=1.1.0 in /usr/local/lib/python3.7/dist-packages (from tensorflow) (1.1.0)\n",
            "Requirement already satisfied: tensorflow-estimator<2.9,>=2.8 in /usr/local/lib/python3.7/dist-packages (from tensorflow) (2.8.0)\n",
            "Requirement already satisfied: wheel<1.0,>=0.23.0 in /usr/local/lib/python3.7/dist-packages (from astunparse>=1.6.0->tensorflow) (0.37.1)\n",
            "Requirement already satisfied: cached-property in /usr/local/lib/python3.7/dist-packages (from h5py>=2.9.0->tensorflow) (1.5.2)\n",
            "Requirement already satisfied: requests<3,>=2.21.0 in /usr/local/lib/python3.7/dist-packages (from tensorboard<2.9,>=2.8->tensorflow) (2.23.0)\n",
            "Requirement already satisfied: tensorboard-plugin-wit>=1.6.0 in /usr/local/lib/python3.7/dist-packages (from tensorboard<2.9,>=2.8->tensorflow) (1.8.1)\n",
            "Requirement already satisfied: markdown>=2.6.8 in /usr/local/lib/python3.7/dist-packages (from tensorboard<2.9,>=2.8->tensorflow) (3.4.1)\n",
            "Requirement already satisfied: google-auth-oauthlib<0.5,>=0.4.1 in /usr/local/lib/python3.7/dist-packages (from tensorboard<2.9,>=2.8->tensorflow) (0.4.6)\n",
            "Requirement already satisfied: google-auth<3,>=1.6.3 in /usr/local/lib/python3.7/dist-packages (from tensorboard<2.9,>=2.8->tensorflow) (1.35.0)\n",
            "Requirement already satisfied: tensorboard-data-server<0.7.0,>=0.6.0 in /usr/local/lib/python3.7/dist-packages (from tensorboard<2.9,>=2.8->tensorflow) (0.6.1)\n",
            "Requirement already satisfied: werkzeug>=0.11.15 in /usr/local/lib/python3.7/dist-packages (from tensorboard<2.9,>=2.8->tensorflow) (1.0.1)\n",
            "Requirement already satisfied: rsa<5,>=3.1.4 in /usr/local/lib/python3.7/dist-packages (from google-auth<3,>=1.6.3->tensorboard<2.9,>=2.8->tensorflow) (4.9)\n",
            "Requirement already satisfied: pyasn1-modules>=0.2.1 in /usr/local/lib/python3.7/dist-packages (from google-auth<3,>=1.6.3->tensorboard<2.9,>=2.8->tensorflow) (0.2.8)\n",
            "Requirement already satisfied: cachetools<5.0,>=2.0.0 in /usr/local/lib/python3.7/dist-packages (from google-auth<3,>=1.6.3->tensorboard<2.9,>=2.8->tensorflow) (4.2.4)\n",
            "Requirement already satisfied: requests-oauthlib>=0.7.0 in /usr/local/lib/python3.7/dist-packages (from google-auth-oauthlib<0.5,>=0.4.1->tensorboard<2.9,>=2.8->tensorflow) (1.3.1)\n",
            "Requirement already satisfied: importlib-metadata>=4.4 in /usr/local/lib/python3.7/dist-packages (from markdown>=2.6.8->tensorboard<2.9,>=2.8->tensorflow) (4.12.0)\n",
            "Requirement already satisfied: zipp>=0.5 in /usr/local/lib/python3.7/dist-packages (from importlib-metadata>=4.4->markdown>=2.6.8->tensorboard<2.9,>=2.8->tensorflow) (3.8.1)\n",
            "Requirement already satisfied: pyasn1<0.5.0,>=0.4.6 in /usr/local/lib/python3.7/dist-packages (from pyasn1-modules>=0.2.1->google-auth<3,>=1.6.3->tensorboard<2.9,>=2.8->tensorflow) (0.4.8)\n",
            "Requirement already satisfied: chardet<4,>=3.0.2 in /usr/local/lib/python3.7/dist-packages (from requests<3,>=2.21.0->tensorboard<2.9,>=2.8->tensorflow) (3.0.4)\n",
            "Requirement already satisfied: idna<3,>=2.5 in /usr/local/lib/python3.7/dist-packages (from requests<3,>=2.21.0->tensorboard<2.9,>=2.8->tensorflow) (2.10)\n",
            "Requirement already satisfied: certifi>=2017.4.17 in /usr/local/lib/python3.7/dist-packages (from requests<3,>=2.21.0->tensorboard<2.9,>=2.8->tensorflow) (2022.6.15)\n",
            "Requirement already satisfied: urllib3!=1.25.0,!=1.25.1,<1.26,>=1.21.1 in /usr/local/lib/python3.7/dist-packages (from requests<3,>=2.21.0->tensorboard<2.9,>=2.8->tensorflow) (1.24.3)\n",
            "Requirement already satisfied: oauthlib>=3.0.0 in /usr/local/lib/python3.7/dist-packages (from requests-oauthlib>=0.7.0->google-auth-oauthlib<0.5,>=0.4.1->tensorboard<2.9,>=2.8->tensorflow) (3.2.0)\n"
          ]
        }
      ],
      "source": [
        "!pip install tensorflow"
      ]
    },
    {
      "cell_type": "code",
      "execution_count": 2,
      "metadata": {
        "colab": {
          "base_uri": "https://localhost:8080/",
          "height": 423
        },
        "id": "qQGd8L2Tg3Go",
        "outputId": "24d12ce4-5dad-47b6-899d-f0431129e010"
      },
      "outputs": [
        {
          "output_type": "execute_result",
          "data": {
            "text/plain": [
              "      RowNumber  CustomerId    Surname  CreditScore Geography  Gender  Age  \\\n",
              "0             1    15634602   Hargrave          619    France  Female   42   \n",
              "1             2    15647311       Hill          608     Spain  Female   41   \n",
              "2             3    15619304       Onio          502    France  Female   42   \n",
              "3             4    15701354       Boni          699    France  Female   39   \n",
              "4             5    15737888   Mitchell          850     Spain  Female   43   \n",
              "...         ...         ...        ...          ...       ...     ...  ...   \n",
              "9995       9996    15606229   Obijiaku          771    France    Male   39   \n",
              "9996       9997    15569892  Johnstone          516    France    Male   35   \n",
              "9997       9998    15584532        Liu          709    France  Female   36   \n",
              "9998       9999    15682355  Sabbatini          772   Germany    Male   42   \n",
              "9999      10000    15628319     Walker          792    France  Female   28   \n",
              "\n",
              "      Tenure    Balance  NumOfProducts  HasCrCard  IsActiveMember  \\\n",
              "0          2       0.00              1          1               1   \n",
              "1          1   83807.86              1          0               1   \n",
              "2          8  159660.80              3          1               0   \n",
              "3          1       0.00              2          0               0   \n",
              "4          2  125510.82              1          1               1   \n",
              "...      ...        ...            ...        ...             ...   \n",
              "9995       5       0.00              2          1               0   \n",
              "9996      10   57369.61              1          1               1   \n",
              "9997       7       0.00              1          0               1   \n",
              "9998       3   75075.31              2          1               0   \n",
              "9999       4  130142.79              1          1               0   \n",
              "\n",
              "      EstimatedSalary  Exited  \n",
              "0           101348.88       1  \n",
              "1           112542.58       0  \n",
              "2           113931.57       1  \n",
              "3            93826.63       0  \n",
              "4            79084.10       0  \n",
              "...               ...     ...  \n",
              "9995         96270.64       0  \n",
              "9996        101699.77       0  \n",
              "9997         42085.58       1  \n",
              "9998         92888.52       1  \n",
              "9999         38190.78       0  \n",
              "\n",
              "[10000 rows x 14 columns]"
            ],
            "text/html": [
              "\n",
              "  <div id=\"df-9e9bf5d1-ffd6-415e-a429-9f797b6a31f3\">\n",
              "    <div class=\"colab-df-container\">\n",
              "      <div>\n",
              "<style scoped>\n",
              "    .dataframe tbody tr th:only-of-type {\n",
              "        vertical-align: middle;\n",
              "    }\n",
              "\n",
              "    .dataframe tbody tr th {\n",
              "        vertical-align: top;\n",
              "    }\n",
              "\n",
              "    .dataframe thead th {\n",
              "        text-align: right;\n",
              "    }\n",
              "</style>\n",
              "<table border=\"1\" class=\"dataframe\">\n",
              "  <thead>\n",
              "    <tr style=\"text-align: right;\">\n",
              "      <th></th>\n",
              "      <th>RowNumber</th>\n",
              "      <th>CustomerId</th>\n",
              "      <th>Surname</th>\n",
              "      <th>CreditScore</th>\n",
              "      <th>Geography</th>\n",
              "      <th>Gender</th>\n",
              "      <th>Age</th>\n",
              "      <th>Tenure</th>\n",
              "      <th>Balance</th>\n",
              "      <th>NumOfProducts</th>\n",
              "      <th>HasCrCard</th>\n",
              "      <th>IsActiveMember</th>\n",
              "      <th>EstimatedSalary</th>\n",
              "      <th>Exited</th>\n",
              "    </tr>\n",
              "  </thead>\n",
              "  <tbody>\n",
              "    <tr>\n",
              "      <th>0</th>\n",
              "      <td>1</td>\n",
              "      <td>15634602</td>\n",
              "      <td>Hargrave</td>\n",
              "      <td>619</td>\n",
              "      <td>France</td>\n",
              "      <td>Female</td>\n",
              "      <td>42</td>\n",
              "      <td>2</td>\n",
              "      <td>0.00</td>\n",
              "      <td>1</td>\n",
              "      <td>1</td>\n",
              "      <td>1</td>\n",
              "      <td>101348.88</td>\n",
              "      <td>1</td>\n",
              "    </tr>\n",
              "    <tr>\n",
              "      <th>1</th>\n",
              "      <td>2</td>\n",
              "      <td>15647311</td>\n",
              "      <td>Hill</td>\n",
              "      <td>608</td>\n",
              "      <td>Spain</td>\n",
              "      <td>Female</td>\n",
              "      <td>41</td>\n",
              "      <td>1</td>\n",
              "      <td>83807.86</td>\n",
              "      <td>1</td>\n",
              "      <td>0</td>\n",
              "      <td>1</td>\n",
              "      <td>112542.58</td>\n",
              "      <td>0</td>\n",
              "    </tr>\n",
              "    <tr>\n",
              "      <th>2</th>\n",
              "      <td>3</td>\n",
              "      <td>15619304</td>\n",
              "      <td>Onio</td>\n",
              "      <td>502</td>\n",
              "      <td>France</td>\n",
              "      <td>Female</td>\n",
              "      <td>42</td>\n",
              "      <td>8</td>\n",
              "      <td>159660.80</td>\n",
              "      <td>3</td>\n",
              "      <td>1</td>\n",
              "      <td>0</td>\n",
              "      <td>113931.57</td>\n",
              "      <td>1</td>\n",
              "    </tr>\n",
              "    <tr>\n",
              "      <th>3</th>\n",
              "      <td>4</td>\n",
              "      <td>15701354</td>\n",
              "      <td>Boni</td>\n",
              "      <td>699</td>\n",
              "      <td>France</td>\n",
              "      <td>Female</td>\n",
              "      <td>39</td>\n",
              "      <td>1</td>\n",
              "      <td>0.00</td>\n",
              "      <td>2</td>\n",
              "      <td>0</td>\n",
              "      <td>0</td>\n",
              "      <td>93826.63</td>\n",
              "      <td>0</td>\n",
              "    </tr>\n",
              "    <tr>\n",
              "      <th>4</th>\n",
              "      <td>5</td>\n",
              "      <td>15737888</td>\n",
              "      <td>Mitchell</td>\n",
              "      <td>850</td>\n",
              "      <td>Spain</td>\n",
              "      <td>Female</td>\n",
              "      <td>43</td>\n",
              "      <td>2</td>\n",
              "      <td>125510.82</td>\n",
              "      <td>1</td>\n",
              "      <td>1</td>\n",
              "      <td>1</td>\n",
              "      <td>79084.10</td>\n",
              "      <td>0</td>\n",
              "    </tr>\n",
              "    <tr>\n",
              "      <th>...</th>\n",
              "      <td>...</td>\n",
              "      <td>...</td>\n",
              "      <td>...</td>\n",
              "      <td>...</td>\n",
              "      <td>...</td>\n",
              "      <td>...</td>\n",
              "      <td>...</td>\n",
              "      <td>...</td>\n",
              "      <td>...</td>\n",
              "      <td>...</td>\n",
              "      <td>...</td>\n",
              "      <td>...</td>\n",
              "      <td>...</td>\n",
              "      <td>...</td>\n",
              "    </tr>\n",
              "    <tr>\n",
              "      <th>9995</th>\n",
              "      <td>9996</td>\n",
              "      <td>15606229</td>\n",
              "      <td>Obijiaku</td>\n",
              "      <td>771</td>\n",
              "      <td>France</td>\n",
              "      <td>Male</td>\n",
              "      <td>39</td>\n",
              "      <td>5</td>\n",
              "      <td>0.00</td>\n",
              "      <td>2</td>\n",
              "      <td>1</td>\n",
              "      <td>0</td>\n",
              "      <td>96270.64</td>\n",
              "      <td>0</td>\n",
              "    </tr>\n",
              "    <tr>\n",
              "      <th>9996</th>\n",
              "      <td>9997</td>\n",
              "      <td>15569892</td>\n",
              "      <td>Johnstone</td>\n",
              "      <td>516</td>\n",
              "      <td>France</td>\n",
              "      <td>Male</td>\n",
              "      <td>35</td>\n",
              "      <td>10</td>\n",
              "      <td>57369.61</td>\n",
              "      <td>1</td>\n",
              "      <td>1</td>\n",
              "      <td>1</td>\n",
              "      <td>101699.77</td>\n",
              "      <td>0</td>\n",
              "    </tr>\n",
              "    <tr>\n",
              "      <th>9997</th>\n",
              "      <td>9998</td>\n",
              "      <td>15584532</td>\n",
              "      <td>Liu</td>\n",
              "      <td>709</td>\n",
              "      <td>France</td>\n",
              "      <td>Female</td>\n",
              "      <td>36</td>\n",
              "      <td>7</td>\n",
              "      <td>0.00</td>\n",
              "      <td>1</td>\n",
              "      <td>0</td>\n",
              "      <td>1</td>\n",
              "      <td>42085.58</td>\n",
              "      <td>1</td>\n",
              "    </tr>\n",
              "    <tr>\n",
              "      <th>9998</th>\n",
              "      <td>9999</td>\n",
              "      <td>15682355</td>\n",
              "      <td>Sabbatini</td>\n",
              "      <td>772</td>\n",
              "      <td>Germany</td>\n",
              "      <td>Male</td>\n",
              "      <td>42</td>\n",
              "      <td>3</td>\n",
              "      <td>75075.31</td>\n",
              "      <td>2</td>\n",
              "      <td>1</td>\n",
              "      <td>0</td>\n",
              "      <td>92888.52</td>\n",
              "      <td>1</td>\n",
              "    </tr>\n",
              "    <tr>\n",
              "      <th>9999</th>\n",
              "      <td>10000</td>\n",
              "      <td>15628319</td>\n",
              "      <td>Walker</td>\n",
              "      <td>792</td>\n",
              "      <td>France</td>\n",
              "      <td>Female</td>\n",
              "      <td>28</td>\n",
              "      <td>4</td>\n",
              "      <td>130142.79</td>\n",
              "      <td>1</td>\n",
              "      <td>1</td>\n",
              "      <td>0</td>\n",
              "      <td>38190.78</td>\n",
              "      <td>0</td>\n",
              "    </tr>\n",
              "  </tbody>\n",
              "</table>\n",
              "<p>10000 rows × 14 columns</p>\n",
              "</div>\n",
              "      <button class=\"colab-df-convert\" onclick=\"convertToInteractive('df-9e9bf5d1-ffd6-415e-a429-9f797b6a31f3')\"\n",
              "              title=\"Convert this dataframe to an interactive table.\"\n",
              "              style=\"display:none;\">\n",
              "        \n",
              "  <svg xmlns=\"http://www.w3.org/2000/svg\" height=\"24px\"viewBox=\"0 0 24 24\"\n",
              "       width=\"24px\">\n",
              "    <path d=\"M0 0h24v24H0V0z\" fill=\"none\"/>\n",
              "    <path d=\"M18.56 5.44l.94 2.06.94-2.06 2.06-.94-2.06-.94-.94-2.06-.94 2.06-2.06.94zm-11 1L8.5 8.5l.94-2.06 2.06-.94-2.06-.94L8.5 2.5l-.94 2.06-2.06.94zm10 10l.94 2.06.94-2.06 2.06-.94-2.06-.94-.94-2.06-.94 2.06-2.06.94z\"/><path d=\"M17.41 7.96l-1.37-1.37c-.4-.4-.92-.59-1.43-.59-.52 0-1.04.2-1.43.59L10.3 9.45l-7.72 7.72c-.78.78-.78 2.05 0 2.83L4 21.41c.39.39.9.59 1.41.59.51 0 1.02-.2 1.41-.59l7.78-7.78 2.81-2.81c.8-.78.8-2.07 0-2.86zM5.41 20L4 18.59l7.72-7.72 1.47 1.35L5.41 20z\"/>\n",
              "  </svg>\n",
              "      </button>\n",
              "      \n",
              "  <style>\n",
              "    .colab-df-container {\n",
              "      display:flex;\n",
              "      flex-wrap:wrap;\n",
              "      gap: 12px;\n",
              "    }\n",
              "\n",
              "    .colab-df-convert {\n",
              "      background-color: #E8F0FE;\n",
              "      border: none;\n",
              "      border-radius: 50%;\n",
              "      cursor: pointer;\n",
              "      display: none;\n",
              "      fill: #1967D2;\n",
              "      height: 32px;\n",
              "      padding: 0 0 0 0;\n",
              "      width: 32px;\n",
              "    }\n",
              "\n",
              "    .colab-df-convert:hover {\n",
              "      background-color: #E2EBFA;\n",
              "      box-shadow: 0px 1px 2px rgba(60, 64, 67, 0.3), 0px 1px 3px 1px rgba(60, 64, 67, 0.15);\n",
              "      fill: #174EA6;\n",
              "    }\n",
              "\n",
              "    [theme=dark] .colab-df-convert {\n",
              "      background-color: #3B4455;\n",
              "      fill: #D2E3FC;\n",
              "    }\n",
              "\n",
              "    [theme=dark] .colab-df-convert:hover {\n",
              "      background-color: #434B5C;\n",
              "      box-shadow: 0px 1px 3px 1px rgba(0, 0, 0, 0.15);\n",
              "      filter: drop-shadow(0px 1px 2px rgba(0, 0, 0, 0.3));\n",
              "      fill: #FFFFFF;\n",
              "    }\n",
              "  </style>\n",
              "\n",
              "      <script>\n",
              "        const buttonEl =\n",
              "          document.querySelector('#df-9e9bf5d1-ffd6-415e-a429-9f797b6a31f3 button.colab-df-convert');\n",
              "        buttonEl.style.display =\n",
              "          google.colab.kernel.accessAllowed ? 'block' : 'none';\n",
              "\n",
              "        async function convertToInteractive(key) {\n",
              "          const element = document.querySelector('#df-9e9bf5d1-ffd6-415e-a429-9f797b6a31f3');\n",
              "          const dataTable =\n",
              "            await google.colab.kernel.invokeFunction('convertToInteractive',\n",
              "                                                     [key], {});\n",
              "          if (!dataTable) return;\n",
              "\n",
              "          const docLinkHtml = 'Like what you see? Visit the ' +\n",
              "            '<a target=\"_blank\" href=https://colab.research.google.com/notebooks/data_table.ipynb>data table notebook</a>'\n",
              "            + ' to learn more about interactive tables.';\n",
              "          element.innerHTML = '';\n",
              "          dataTable['output_type'] = 'display_data';\n",
              "          await google.colab.output.renderOutput(dataTable, element);\n",
              "          const docLink = document.createElement('div');\n",
              "          docLink.innerHTML = docLinkHtml;\n",
              "          element.appendChild(docLink);\n",
              "        }\n",
              "      </script>\n",
              "    </div>\n",
              "  </div>\n",
              "  "
            ]
          },
          "metadata": {},
          "execution_count": 2
        }
      ],
      "source": [
        "url = 'https://raw.githubusercontent.com/nishant-harinkhede12/NLP-and-Deep-Learing/main/Churn_Modelling.csv'\n",
        "\n",
        "import pandas as pd\n",
        "#dataset = pd.read_csv(url, header=None, sep=',')\n",
        "#dataset = pd.read_csv(url, skiprows=2, dtype=str, header=None)\n",
        "dataset = pd.read_csv(url)#,delimiter=\",\")#, names=column_names\n",
        "dataset"
      ]
    },
    {
      "cell_type": "code",
      "execution_count": 3,
      "metadata": {
        "colab": {
          "base_uri": "https://localhost:8080/"
        },
        "id": "g7_tH6uKGW3-",
        "outputId": "7b1835fc-b355-42db-b36f-69f5786e8090"
      },
      "outputs": [
        {
          "output_type": "execute_result",
          "data": {
            "text/plain": [
              "RowNumber          0\n",
              "CustomerId         0\n",
              "Surname            0\n",
              "CreditScore        0\n",
              "Geography          0\n",
              "Gender             0\n",
              "Age                0\n",
              "Tenure             0\n",
              "Balance            0\n",
              "NumOfProducts      0\n",
              "HasCrCard          0\n",
              "IsActiveMember     0\n",
              "EstimatedSalary    0\n",
              "Exited             0\n",
              "dtype: int64"
            ]
          },
          "metadata": {},
          "execution_count": 3
        }
      ],
      "source": [
        "dataset.isna().sum()"
      ]
    },
    {
      "cell_type": "markdown",
      "metadata": {
        "id": "1DO3F2iWHzy1"
      },
      "source": [
        "Import library"
      ]
    },
    {
      "cell_type": "code",
      "execution_count": 4,
      "metadata": {
        "colab": {
          "base_uri": "https://localhost:8080/"
        },
        "id": "RBrtbTnzHObI",
        "outputId": "97cb0209-e320-4759-f5c9-814d59ff7e76"
      },
      "outputs": [
        {
          "output_type": "stream",
          "name": "stdout",
          "text": [
            "2.8.2\n"
          ]
        }
      ],
      "source": [
        "import tensorflow as tf\n",
        "print(tf.__version__)\n",
        "import pandas as pd\n",
        "import numpy as np\n",
        "import matplotlib.pyplot as plt\n"
      ]
    },
    {
      "cell_type": "markdown",
      "metadata": {
        "id": "oVRPrfpMI31i"
      },
      "source": [
        "Divide data into independent and target "
      ]
    },
    {
      "cell_type": "code",
      "execution_count": 5,
      "metadata": {
        "id": "PTVwWSBSI_6e"
      },
      "outputs": [],
      "source": [
        "from tensorflow.python import data\n",
        "# x = dataset.iloc[:,3:13].values\n",
        "# y = dataset.iloc[:,13].values\n",
        "# print(x)\n",
        "# print(y)"
      ]
    },
    {
      "cell_type": "markdown",
      "metadata": {
        "id": "m4eLgPa3LCWW"
      },
      "source": [
        "feature engineering"
      ]
    },
    {
      "cell_type": "code",
      "execution_count": 6,
      "metadata": {
        "id": "fi-ScLPgK8ap"
      },
      "outputs": [],
      "source": [
        "# from sklearn.preprocessing import LabelEncoder\n",
        "# LE = LabelEncoder()\n",
        "\n",
        "# LE.fit_transform(x[:,1])\n",
        "# x[:,1] = LE.fit_transform(x[:,1]) \n",
        "# LE.fit_transform(x[:,2])\n",
        "# x[:,2] = LE.fit_transform(x[:,2]) \n",
        "\n",
        "# print(x,y)\n"
      ]
    },
    {
      "cell_type": "markdown",
      "metadata": {
        "id": "16QEToKTPOTg"
      },
      "source": [
        "OR"
      ]
    },
    {
      "cell_type": "code",
      "execution_count": 7,
      "metadata": {
        "id": "AfoaRhvtPQTJ"
      },
      "outputs": [],
      "source": [
        "from tensorflow.python import data\n",
        "x = dataset.iloc[:,3:13]\n",
        "y = dataset.iloc[:,13]"
      ]
    },
    {
      "cell_type": "markdown",
      "metadata": {
        "id": "NWQ_H69KRDMy"
      },
      "source": [
        "Feature engieering Geography Gender"
      ]
    },
    {
      "cell_type": "code",
      "execution_count": 8,
      "metadata": {
        "id": "NsLYzOh4Peic"
      },
      "outputs": [],
      "source": [
        "geography = pd.get_dummies(x['Geography'],drop_first=True)\n",
        "\n",
        "# from sklearn.preprocessing import LabelEncoder\n",
        "# LE = LabelEncoder()\n",
        "# gender = LE.fit_transform(x['Gender'])\n",
        "\n",
        "gender = pd.get_dummies(x['Gender'],drop_first=True)"
      ]
    },
    {
      "cell_type": "code",
      "execution_count": 9,
      "metadata": {
        "colab": {
          "base_uri": "https://localhost:8080/"
        },
        "id": "gvqy9LvRRQeo",
        "outputId": "e9f264ac-ae82-4f55-89aa-3316c976834a"
      },
      "outputs": [
        {
          "output_type": "stream",
          "name": "stdout",
          "text": [
            "      CreditScore  Age  Tenure    Balance  NumOfProducts  HasCrCard  \\\n",
            "0             619   42       2       0.00              1          1   \n",
            "1             608   41       1   83807.86              1          0   \n",
            "2             502   42       8  159660.80              3          1   \n",
            "3             699   39       1       0.00              2          0   \n",
            "4             850   43       2  125510.82              1          1   \n",
            "...           ...  ...     ...        ...            ...        ...   \n",
            "9995          771   39       5       0.00              2          1   \n",
            "9996          516   35      10   57369.61              1          1   \n",
            "9997          709   36       7       0.00              1          0   \n",
            "9998          772   42       3   75075.31              2          1   \n",
            "9999          792   28       4  130142.79              1          1   \n",
            "\n",
            "      IsActiveMember  EstimatedSalary  Germany  Spain  Male  \n",
            "0                  1        101348.88        0      0     0  \n",
            "1                  1        112542.58        0      1     0  \n",
            "2                  0        113931.57        0      0     0  \n",
            "3                  0         93826.63        0      0     0  \n",
            "4                  1         79084.10        0      1     0  \n",
            "...              ...              ...      ...    ...   ...  \n",
            "9995               0         96270.64        0      0     1  \n",
            "9996               1        101699.77        0      0     1  \n",
            "9997               1         42085.58        0      0     0  \n",
            "9998               0         92888.52        1      0     1  \n",
            "9999               0         38190.78        0      0     0  \n",
            "\n",
            "[10000 rows x 11 columns]\n"
          ]
        }
      ],
      "source": [
        "x= x.drop(['Geography','Gender'], axis =1)\n",
        "x = pd.concat([x,geography,gender], axis =1)\n",
        "print(x)"
      ]
    },
    {
      "cell_type": "code",
      "execution_count": 10,
      "metadata": {
        "id": "nJRFc2i6Swlm"
      },
      "outputs": [],
      "source": [
        "from sklearn.model_selection import train_test_split\n",
        "X_train, X_test, y_train,y_test = train_test_split(x,y,test_size=0.2,random_state=0)\n",
        "\n",
        "## feature scaling \n",
        "from sklearn.preprocessing import StandardScaler\n",
        "sc = StandardScaler()\n",
        "X_train = sc.fit_transform(X_train)\n",
        "X_test = sc.transform(X_test)"
      ]
    },
    {
      "cell_type": "code",
      "execution_count": 11,
      "metadata": {
        "colab": {
          "base_uri": "https://localhost:8080/"
        },
        "id": "8MwHQZjXZAlb",
        "outputId": "48a27da5-58ee-4cb4-8876-561b9893285a"
      },
      "outputs": [
        {
          "output_type": "stream",
          "name": "stdout",
          "text": [
            "[[ 0.16958176 -0.46460796  0.00666099 ... -0.5698444   1.74309049\n",
            "  -1.09168714]\n",
            " [-2.30455945  0.30102557 -1.37744033 ...  1.75486502 -0.57369368\n",
            "   0.91601335]\n",
            " [-1.19119591 -0.94312892 -1.031415   ... -0.5698444  -0.57369368\n",
            "  -1.09168714]\n",
            " ...\n",
            " [ 0.9015152  -0.36890377  0.00666099 ... -0.5698444  -0.57369368\n",
            "   0.91601335]\n",
            " [-0.62420521 -0.08179119  1.39076231 ... -0.5698444   1.74309049\n",
            "  -1.09168714]\n",
            " [-0.28401079  0.87525072 -1.37744033 ...  1.75486502 -0.57369368\n",
            "  -1.09168714]]\n",
            "(8000, 11)\n"
          ]
        }
      ],
      "source": [
        "print (X_train)\n",
        "print (X_train.shape)"
      ]
    },
    {
      "cell_type": "markdown",
      "metadata": {
        "id": "TdpdiZo6ZPBM"
      },
      "source": [
        "PART 2 to create ANN"
      ]
    },
    {
      "cell_type": "code",
      "execution_count": 12,
      "metadata": {
        "id": "7X_zZne9ZQr4"
      },
      "outputs": [],
      "source": [
        "from tensorflow.keras.models import Sequential\n",
        "from tensorflow.keras.layers import Dense\n",
        "from tensorflow.keras.layers import ReLU,LeakyReLU,ELU,PReLU\n",
        "from tensorflow.keras.layers import Dropout"
      ]
    },
    {
      "cell_type": "code",
      "execution_count": 42,
      "metadata": {
        "id": "zKlH3AR-bLTU"
      },
      "outputs": [],
      "source": [
        "# lets initilize ANN\n",
        "classifier = Sequential()\n",
        "\n",
        "# add input layer\n",
        "classifier.add(Dense(units=11, activation = 'relu'))\n",
        "classifier.add(Dropout(0.3))\n",
        "\n",
        "# add first hidden layer\n",
        "classifier.add(Dense(units=7, activation = 'relu'))\n",
        "\n",
        "classifier.add(Dense(units=6, activation = 'relu'))\n",
        "\n",
        "# adding output layer\n",
        "classifier.add(Dense(1, activation = 'sigmoid')) # as output is binory"
      ]
    },
    {
      "cell_type": "code",
      "execution_count": 43,
      "metadata": {
        "id": "K146ynrEc_dw"
      },
      "outputs": [],
      "source": [
        "import tensorflow\n",
        "opt = tensorflow.keras.optimizers.Adam(learning_rate=0.01)\n",
        "\n",
        "classifier.compile(optimizer=opt,loss='binary_crossentropy',metrics= ['accuracy'])\n",
        "# import tensorflow.keras\n",
        "# classifier.compile(\n",
        "# optimizer= opt,#keras.optimizers.Adam(), \n",
        "# loss= keras.losses.SparseCategoricalCrossentropy(from_logits= True), \n",
        "# metrices= ['accuracy'])"
      ]
    },
    {
      "cell_type": "code",
      "execution_count": 44,
      "metadata": {
        "id": "1wIb8B7PeJNT"
      },
      "outputs": [],
      "source": [
        "# early stopping\n",
        "early_stopping =tf.keras.callbacks.EarlyStopping(\n",
        "    monitor=\"val_loss\",\n",
        "    min_delta=0.001,\n",
        "    patience=20,\n",
        "    verbose=1,\n",
        "    mode=\"auto\",\n",
        "    baseline=None,\n",
        "    restore_best_weights=False,\n",
        ")\n"
      ]
    },
    {
      "cell_type": "code",
      "execution_count": 45,
      "metadata": {
        "colab": {
          "base_uri": "https://localhost:8080/"
        },
        "id": "HPoixcqVoCF1",
        "outputId": "d3d8242e-6502-4ab2-f4de-b0c589e82a02"
      },
      "outputs": [
        {
          "output_type": "stream",
          "name": "stdout",
          "text": [
            "Epoch 1/1000\n",
            "560/560 [==============================] - 3s 4ms/step - loss: 0.4486 - accuracy: 0.8086 - val_loss: 0.3930 - val_accuracy: 0.8279\n",
            "Epoch 2/1000\n",
            "560/560 [==============================] - 2s 3ms/step - loss: 0.3997 - accuracy: 0.8230 - val_loss: 0.3992 - val_accuracy: 0.8300\n",
            "Epoch 3/1000\n",
            "560/560 [==============================] - 2s 4ms/step - loss: 0.3900 - accuracy: 0.8305 - val_loss: 0.3880 - val_accuracy: 0.8271\n",
            "Epoch 4/1000\n",
            "560/560 [==============================] - 2s 4ms/step - loss: 0.3755 - accuracy: 0.8375 - val_loss: 0.3818 - val_accuracy: 0.8467\n",
            "Epoch 5/1000\n",
            "560/560 [==============================] - 2s 3ms/step - loss: 0.3759 - accuracy: 0.8407 - val_loss: 0.3745 - val_accuracy: 0.8379\n",
            "Epoch 6/1000\n",
            "560/560 [==============================] - 2s 3ms/step - loss: 0.3721 - accuracy: 0.8423 - val_loss: 0.3875 - val_accuracy: 0.8408\n",
            "Epoch 7/1000\n",
            "560/560 [==============================] - 2s 3ms/step - loss: 0.3698 - accuracy: 0.8452 - val_loss: 0.3795 - val_accuracy: 0.8438\n",
            "Epoch 8/1000\n",
            "560/560 [==============================] - 2s 3ms/step - loss: 0.3727 - accuracy: 0.8455 - val_loss: 0.3742 - val_accuracy: 0.8467\n",
            "Epoch 9/1000\n",
            "560/560 [==============================] - 2s 3ms/step - loss: 0.3709 - accuracy: 0.8395 - val_loss: 0.3733 - val_accuracy: 0.8413\n",
            "Epoch 10/1000\n",
            "560/560 [==============================] - 2s 3ms/step - loss: 0.3707 - accuracy: 0.8423 - val_loss: 0.3755 - val_accuracy: 0.8404\n",
            "Epoch 11/1000\n",
            "560/560 [==============================] - 2s 3ms/step - loss: 0.3719 - accuracy: 0.8413 - val_loss: 0.3745 - val_accuracy: 0.8438\n",
            "Epoch 12/1000\n",
            "560/560 [==============================] - 2s 3ms/step - loss: 0.3648 - accuracy: 0.8407 - val_loss: 0.3733 - val_accuracy: 0.8467\n",
            "Epoch 13/1000\n",
            "560/560 [==============================] - 2s 4ms/step - loss: 0.3715 - accuracy: 0.8429 - val_loss: 0.3680 - val_accuracy: 0.8492\n",
            "Epoch 14/1000\n",
            "560/560 [==============================] - 2s 4ms/step - loss: 0.3711 - accuracy: 0.8429 - val_loss: 0.3721 - val_accuracy: 0.8429\n",
            "Epoch 15/1000\n",
            "560/560 [==============================] - 2s 4ms/step - loss: 0.3623 - accuracy: 0.8477 - val_loss: 0.3747 - val_accuracy: 0.8429\n",
            "Epoch 16/1000\n",
            "560/560 [==============================] - 2s 3ms/step - loss: 0.3591 - accuracy: 0.8493 - val_loss: 0.3720 - val_accuracy: 0.8454\n",
            "Epoch 17/1000\n",
            "560/560 [==============================] - 2s 3ms/step - loss: 0.3633 - accuracy: 0.8496 - val_loss: 0.3716 - val_accuracy: 0.8446\n",
            "Epoch 18/1000\n",
            "560/560 [==============================] - 2s 3ms/step - loss: 0.3670 - accuracy: 0.8446 - val_loss: 0.3689 - val_accuracy: 0.8462\n",
            "Epoch 19/1000\n",
            "560/560 [==============================] - 2s 3ms/step - loss: 0.3616 - accuracy: 0.8516 - val_loss: 0.3976 - val_accuracy: 0.8225\n",
            "Epoch 20/1000\n",
            "560/560 [==============================] - 2s 3ms/step - loss: 0.3615 - accuracy: 0.8475 - val_loss: 0.3668 - val_accuracy: 0.8446\n",
            "Epoch 21/1000\n",
            "560/560 [==============================] - 2s 3ms/step - loss: 0.3664 - accuracy: 0.8468 - val_loss: 0.3736 - val_accuracy: 0.8442\n",
            "Epoch 22/1000\n",
            "560/560 [==============================] - 2s 3ms/step - loss: 0.3662 - accuracy: 0.8439 - val_loss: 0.3696 - val_accuracy: 0.8421\n",
            "Epoch 23/1000\n",
            "560/560 [==============================] - 2s 3ms/step - loss: 0.3558 - accuracy: 0.8493 - val_loss: 0.3715 - val_accuracy: 0.8471\n",
            "Epoch 24/1000\n",
            "560/560 [==============================] - 2s 4ms/step - loss: 0.3588 - accuracy: 0.8482 - val_loss: 0.3657 - val_accuracy: 0.8537\n",
            "Epoch 25/1000\n",
            "560/560 [==============================] - 2s 3ms/step - loss: 0.3609 - accuracy: 0.8498 - val_loss: 0.3663 - val_accuracy: 0.8512\n",
            "Epoch 26/1000\n",
            "560/560 [==============================] - 2s 3ms/step - loss: 0.3605 - accuracy: 0.8455 - val_loss: 0.3787 - val_accuracy: 0.8429\n",
            "Epoch 27/1000\n",
            "560/560 [==============================] - 2s 4ms/step - loss: 0.3617 - accuracy: 0.8464 - val_loss: 0.3658 - val_accuracy: 0.8529\n",
            "Epoch 28/1000\n",
            "560/560 [==============================] - 2s 3ms/step - loss: 0.3589 - accuracy: 0.8505 - val_loss: 0.3650 - val_accuracy: 0.8537\n",
            "Epoch 29/1000\n",
            "560/560 [==============================] - 2s 4ms/step - loss: 0.3597 - accuracy: 0.8484 - val_loss: 0.3626 - val_accuracy: 0.8508\n",
            "Epoch 30/1000\n",
            "560/560 [==============================] - 2s 4ms/step - loss: 0.3620 - accuracy: 0.8477 - val_loss: 0.3632 - val_accuracy: 0.8504\n",
            "Epoch 31/1000\n",
            "560/560 [==============================] - 2s 3ms/step - loss: 0.3549 - accuracy: 0.8493 - val_loss: 0.3664 - val_accuracy: 0.8475\n",
            "Epoch 32/1000\n",
            "560/560 [==============================] - 2s 3ms/step - loss: 0.3576 - accuracy: 0.8464 - val_loss: 0.3612 - val_accuracy: 0.8462\n",
            "Epoch 33/1000\n",
            "560/560 [==============================] - 2s 3ms/step - loss: 0.3610 - accuracy: 0.8504 - val_loss: 0.3586 - val_accuracy: 0.8496\n",
            "Epoch 34/1000\n",
            "560/560 [==============================] - 2s 3ms/step - loss: 0.3537 - accuracy: 0.8498 - val_loss: 0.3647 - val_accuracy: 0.8492\n",
            "Epoch 35/1000\n",
            "560/560 [==============================] - 2s 3ms/step - loss: 0.3563 - accuracy: 0.8532 - val_loss: 0.3788 - val_accuracy: 0.8338\n",
            "Epoch 36/1000\n",
            "560/560 [==============================] - 2s 3ms/step - loss: 0.3602 - accuracy: 0.8491 - val_loss: 0.3700 - val_accuracy: 0.8454\n",
            "Epoch 37/1000\n",
            "560/560 [==============================] - 2s 4ms/step - loss: 0.3564 - accuracy: 0.8466 - val_loss: 0.3651 - val_accuracy: 0.8433\n",
            "Epoch 38/1000\n",
            "560/560 [==============================] - 2s 4ms/step - loss: 0.3624 - accuracy: 0.8462 - val_loss: 0.3638 - val_accuracy: 0.8454\n",
            "Epoch 39/1000\n",
            "560/560 [==============================] - 2s 3ms/step - loss: 0.3582 - accuracy: 0.8507 - val_loss: 0.3690 - val_accuracy: 0.8471\n",
            "Epoch 40/1000\n",
            "560/560 [==============================] - 2s 3ms/step - loss: 0.3524 - accuracy: 0.8504 - val_loss: 0.3648 - val_accuracy: 0.8462\n",
            "Epoch 41/1000\n",
            "560/560 [==============================] - 2s 3ms/step - loss: 0.3548 - accuracy: 0.8480 - val_loss: 0.3645 - val_accuracy: 0.8517\n",
            "Epoch 42/1000\n",
            "560/560 [==============================] - 2s 3ms/step - loss: 0.3614 - accuracy: 0.8427 - val_loss: 0.3618 - val_accuracy: 0.8454\n",
            "Epoch 43/1000\n",
            "560/560 [==============================] - 2s 4ms/step - loss: 0.3592 - accuracy: 0.8466 - val_loss: 0.3639 - val_accuracy: 0.8471\n",
            "Epoch 44/1000\n",
            "560/560 [==============================] - 2s 4ms/step - loss: 0.3489 - accuracy: 0.8511 - val_loss: 0.3579 - val_accuracy: 0.8542\n",
            "Epoch 45/1000\n",
            "560/560 [==============================] - 2s 4ms/step - loss: 0.3561 - accuracy: 0.8479 - val_loss: 0.3627 - val_accuracy: 0.8450\n",
            "Epoch 46/1000\n",
            "560/560 [==============================] - 2s 3ms/step - loss: 0.3568 - accuracy: 0.8477 - val_loss: 0.3613 - val_accuracy: 0.8542\n",
            "Epoch 47/1000\n",
            "560/560 [==============================] - 2s 3ms/step - loss: 0.3577 - accuracy: 0.8484 - val_loss: 0.3657 - val_accuracy: 0.8467\n",
            "Epoch 48/1000\n",
            "560/560 [==============================] - 2s 4ms/step - loss: 0.3591 - accuracy: 0.8479 - val_loss: 0.3612 - val_accuracy: 0.8467\n",
            "Epoch 49/1000\n",
            "560/560 [==============================] - 2s 4ms/step - loss: 0.3550 - accuracy: 0.8554 - val_loss: 0.3582 - val_accuracy: 0.8550\n",
            "Epoch 50/1000\n",
            "560/560 [==============================] - 2s 4ms/step - loss: 0.3582 - accuracy: 0.8505 - val_loss: 0.3690 - val_accuracy: 0.8450\n",
            "Epoch 51/1000\n",
            "560/560 [==============================] - 2s 3ms/step - loss: 0.3615 - accuracy: 0.8479 - val_loss: 0.3627 - val_accuracy: 0.8500\n",
            "Epoch 52/1000\n",
            "560/560 [==============================] - 2s 4ms/step - loss: 0.3566 - accuracy: 0.8479 - val_loss: 0.3692 - val_accuracy: 0.8475\n",
            "Epoch 53/1000\n",
            "560/560 [==============================] - 2s 4ms/step - loss: 0.3583 - accuracy: 0.8480 - val_loss: 0.3616 - val_accuracy: 0.8512\n",
            "Epoch 53: early stopping\n"
          ]
        }
      ],
      "source": [
        "model_history = classifier.fit(X_train,y_train,validation_split = 0.3,batch_size =10,epochs=1000, callbacks=early_stopping)"
      ]
    },
    {
      "cell_type": "code",
      "source": [
        "model_history.history.keys()"
      ],
      "metadata": {
        "colab": {
          "base_uri": "https://localhost:8080/"
        },
        "id": "ABXHtPBMQc21",
        "outputId": "c4cbfc4d-4f40-4461-f68a-478c0a859c53"
      },
      "execution_count": 46,
      "outputs": [
        {
          "output_type": "execute_result",
          "data": {
            "text/plain": [
              "dict_keys(['loss', 'accuracy', 'val_loss', 'val_accuracy'])"
            ]
          },
          "metadata": {},
          "execution_count": 46
        }
      ]
    },
    {
      "cell_type": "code",
      "source": [
        "# summrize history for accuracy\n",
        "plt.plot(model_history.history['accuracy'])\n",
        "plt.plot(model_history.history['val_accuracy'])\n",
        "plt.title('model_accuracy')\n",
        "plt.ylabel('accuracy')\n",
        "plt.xlabel('epoch')\n",
        "plt.legend(['train','test'], loc= 'upper_left')\n",
        "plt.show()"
      ],
      "metadata": {
        "colab": {
          "base_uri": "https://localhost:8080/",
          "height": 553
        },
        "id": "tANvGKhwSoLe",
        "outputId": "800ae142-493d-46af-fd67-774d338fa57f"
      },
      "execution_count": 47,
      "outputs": [
        {
          "output_type": "stream",
          "name": "stderr",
          "text": [
            "/usr/local/lib/python3.7/dist-packages/ipykernel_launcher.py:7: MatplotlibDeprecationWarning: Unrecognized location 'upper_left'. Falling back on 'best'; valid locations are\n",
            "\tbest\n",
            "\tupper right\n",
            "\tupper left\n",
            "\tlower left\n",
            "\tlower right\n",
            "\tright\n",
            "\tcenter left\n",
            "\tcenter right\n",
            "\tlower center\n",
            "\tupper center\n",
            "\tcenter\n",
            "This will raise an exception in 3.3.\n",
            "  import sys\n"
          ]
        },
        {
          "output_type": "display_data",
          "data": {
            "text/plain": [
              "<Figure size 432x288 with 1 Axes>"
            ],
            "image/png": "[encoded data removed]"
          },
          "metadata": {
            "needs_background": "light"
          }
        }
      ]
    },
    {
      "cell_type": "code",
      "source": [
        "# summrize history for loss\n",
        "plt.plot(model_history.history['loss'])\n",
        "plt.plot(model_history.history['val_loss'])\n",
        "plt.title('model_loss')\n",
        "plt.ylabel('loss')\n",
        "plt.xlabel('epoch')\n",
        "plt.legend(['train','test'], loc= 'upper_left')\n",
        "plt.show()"
      ],
      "metadata": {
        "colab": {
          "base_uri": "https://localhost:8080/",
          "height": 553
        },
        "id": "sCYelbxZTqWd",
        "outputId": "664dede4-cd5f-4a41-e3ad-b3411081fcde"
      },
      "execution_count": 48,
      "outputs": [
        {
          "output_type": "stream",
          "name": "stderr",
          "text": [
            "/usr/local/lib/python3.7/dist-packages/ipykernel_launcher.py:7: MatplotlibDeprecationWarning: Unrecognized location 'upper_left'. Falling back on 'best'; valid locations are\n",
            "\tbest\n",
            "\tupper right\n",
            "\tupper left\n",
            "\tlower left\n",
            "\tlower right\n",
            "\tright\n",
            "\tcenter left\n",
            "\tcenter right\n",
            "\tlower center\n",
            "\tupper center\n",
            "\tcenter\n",
            "This will raise an exception in 3.3.\n",
            "  import sys\n"
          ]
        },
        {
          "output_type": "display_data",
          "data": {
            "text/plain": [
              "<Figure size 432x288 with 1 Axes>"
            ],
            "image/png": "[encoded data removed]"
          },
          "metadata": {
            "needs_background": "light"
          }
        }
      ]
    },
    {
      "cell_type": "markdown",
      "source": [
        "prediction"
      ],
      "metadata": {
        "id": "uqMOndAUUDRA"
      }
    },
    {
      "cell_type": "code",
      "source": [
        "y_pred = classifier.predict(X_test)\n",
        "y_pred = (y_pred >= 0.5)\n",
        "\n",
        "from sklearn.metrics import confusion_matrix\n",
        "cm = confusion_matrix(y_test,y_pred)\n",
        "print(cm)\n",
        "\n",
        "from sklearn.metrics import accuracy_score\n",
        "ac = accuracy_score(y_test,y_pred)\n",
        "print(\"accuracy score of svc = \",ac)"
      ],
      "metadata": {
        "colab": {
          "base_uri": "https://localhost:8080/"
        },
        "id": "24sAnMl8UB2H",
        "outputId": "43c04df1-c879-44b2-d715-f20bc49f5780"
      },
      "execution_count": 49,
      "outputs": [
        {
          "output_type": "stream",
          "name": "stdout",
          "text": [
            "[[1538   57]\n",
            " [ 222  183]]\n",
            "accuracy score of svc =  0.8605\n"
          ]
        }
      ]
    },
    {
      "cell_type": "code",
      "source": [
        "# get the weights\n",
        "\n",
        "classifier.get_weights()"
      ],
      "metadata": {
        "colab": {
          "base_uri": "https://localhost:8080/"
        },
        "id": "mn7fw-HGW-oZ",
        "outputId": "bad48705-6dad-4ba5-cc80-0b02e0717ec5"
      },
      "execution_count": 50,
      "outputs": [
        {
          "output_type": "execute_result",
          "data": {
            "text/plain": [
              "[array([[ 0.05191249, -0.42743573,  0.19901995,  0.01094169, -0.2038493 ,\n",
              "         -0.36483264,  0.03882722,  0.2864147 ,  0.6240756 , -0.19109444,\n",
              "         -0.3592477 ],\n",
              "        [-3.7435806 ,  2.224352  ,  2.3426716 ,  2.505599  ,  1.2595793 ,\n",
              "          1.0174383 ,  1.408745  , -2.5758324 , -1.9637614 ,  2.1356938 ,\n",
              "          1.0818316 ],\n",
              "        [-0.04768772, -0.46485963, -0.30144328,  0.3406908 ,  0.33617106,\n",
              "         -0.0976109 ,  0.27725995,  0.5433739 ,  0.994456  , -0.15693378,\n",
              "          0.24495079],\n",
              "        [-1.2082136 , -1.2363789 ,  1.7949102 , -0.33015418, -2.765941  ,\n",
              "         -2.8530486 ,  0.6502065 , -3.0645769 , -2.005545  ,  0.28340927,\n",
              "          1.2120824 ],\n",
              "        [ 0.1125607 , -3.8281627 ,  0.576597  , -0.06077242, -3.5992231 ,\n",
              "         -3.3202934 ,  3.7151344 ,  0.7102347 ,  0.30375057, -0.37179416,\n",
              "          3.7643993 ],\n",
              "        [ 0.32321578,  0.06185843,  0.40019876, -0.28968373,  0.40668273,\n",
              "         -0.02352772, -0.03950441, -0.32986987, -0.12323266,  0.02007845,\n",
              "          0.12447548],\n",
              "        [ 0.37780032, -0.33942103, -1.0729271 ,  1.0105134 , -0.86533296,\n",
              "         -0.9575576 , -0.8571235 ,  0.63990796,  0.21738398, -3.4994805 ,\n",
              "         -0.596948  ],\n",
              "        [-0.18027146,  0.4907337 , -0.14710467, -0.17887945,  0.38833377,\n",
              "          0.01483145, -0.07127342,  0.03191154,  0.03423388, -0.0795295 ,\n",
              "          0.07104856],\n",
              "        [-0.17359708,  1.2091155 ,  0.07212994,  0.00670816,  2.253549  ,\n",
              "          1.9555115 ,  0.10732569,  0.76287425, -0.22215775,  0.0728909 ,\n",
              "          0.03965064],\n",
              "        [-2.4075003 , -0.10534718, -0.38371277, -0.00603011, -0.04079954,\n",
              "          0.2355856 , -0.01956959,  0.16645068, -0.28264183,  0.04204707,\n",
              "          0.33792618],\n",
              "        [ 0.61855614, -0.41985258, -1.0933048 , -0.08753834, -0.5438029 ,\n",
              "         -0.284983  , -0.17592895,  1.1848215 ,  1.4561657 , -0.18186106,\n",
              "         -0.17792596]], dtype=float32),\n",
              " array([-1.3436693 , -2.304384  , -1.9038194 , -4.8362565 , -1.8313969 ,\n",
              "        -1.9050318 , -3.5463526 , -1.2682189 , -0.33212423, -4.301881  ,\n",
              "        -4.2937756 ], dtype=float32),\n",
              " array([[-1.1465353 ,  0.53116614, -0.28316993, -2.390556  ,  0.07523122,\n",
              "         -0.19537865, -0.02126669],\n",
              "        [-0.3050424 , -0.09290634, -0.17042875,  0.6496722 , -2.3088794 ,\n",
              "         -1.0271219 , -2.2628522 ],\n",
              "        [ 0.06175204,  0.22550099, -0.3023389 ,  0.40486395, -0.7355958 ,\n",
              "         -2.567282  , -0.26826334],\n",
              "        [-3.152191  ,  2.2766623 , -1.0623639 , -3.201995  ,  0.34894225,\n",
              "          1.4914503 , -0.4438916 ],\n",
              "        [-0.73036456, -0.1117301 ,  0.60112834,  0.7092518 , -3.4130628 ,\n",
              "         -3.2961118 , -0.24469057],\n",
              "        [ 0.70747703, -0.841697  , -2.3182924 ,  0.66896933, -1.8852457 ,\n",
              "         -1.4139259 , -0.18518203],\n",
              "        [-0.18305759, -0.36615217,  1.9805247 , -2.7017531 , -1.1962998 ,\n",
              "         -1.6228621 ,  0.25503883],\n",
              "        [-0.60173553,  1.62038   , -0.30506137, -0.45219037,  0.49147725,\n",
              "         -0.9687348 , -1.6494637 ],\n",
              "        [-0.22424091, -1.6467239 ,  0.01848287, -0.36537966,  0.02706494,\n",
              "          0.6043236 ,  0.9150493 ],\n",
              "        [ 1.4923856 ,  0.10763713,  1.047771  ,  2.2742007 , -0.70839065,\n",
              "          0.1951366 ,  0.10050905],\n",
              "        [ 2.6487558 , -0.578332  , -1.7737731 , -2.3885288 , -2.007097  ,\n",
              "         -1.0857968 , -0.43951592]], dtype=float32),\n",
              " array([-2.7557435 , -4.4977903 , -2.894988  ,  0.80005467,  2.5320988 ,\n",
              "        -0.00869788, -1.1597424 ], dtype=float32),\n",
              " array([[ 0.0330038 , -0.3852675 , -0.6141782 ,  0.56787014, -0.96167576,\n",
              "          0.24287423],\n",
              "        [-0.51285774,  0.28426772, -0.7897477 , -0.49712577, -0.399815  ,\n",
              "          0.04100677],\n",
              "        [ 0.03624599, -0.6300085 , -0.33371615,  0.61820054, -0.6590703 ,\n",
              "          0.48636064],\n",
              "        [-0.47563633, -0.8491973 , -1.6727989 ,  0.4524348 , -0.20296463,\n",
              "         -1.5207552 ],\n",
              "        [-0.08237889,  0.8848515 , -0.3420291 , -1.0889589 , -0.93895787,\n",
              "         -2.0290458 ],\n",
              "        [-0.0576658 ,  0.29907534, -0.00733728, -0.33016297, -1.2223803 ,\n",
              "         -1.8272617 ],\n",
              "        [-2.7654648 ,  0.3595814 , -0.09805573,  0.42789793,  0.21138568,\n",
              "         -0.8175106 ]], dtype=float32),\n",
              " array([-2.0718753 ,  1.4629551 , -0.32639718, -0.9031661 , -0.33759245,\n",
              "        -1.8215693 ], dtype=float32),\n",
              " array([[-0.02774802],\n",
              "        [-0.47780696],\n",
              "        [ 0.24334538],\n",
              "        [ 0.25314227],\n",
              "        [ 0.18236874],\n",
              "        [ 0.14338927]], dtype=float32),\n",
              " array([-0.82620084], dtype=float32)]"
            ]
          },
          "metadata": {},
          "execution_count": 50
        }
      ]
    }
  ],
  "metadata": {
    "accelerator": "GPU",
    "colab": {
      "provenance": [],
      "authorship_tag": "ABX9TyMlnwbLmT4EckQI/GcAPhcL",
      "include_colab_link": true
    },
    "kernelspec": {
      "display_name": "Python 3",
      "name": "python3"
    },
    "language_info": {
      "name": "python"
    }
  },
  "nbformat": 4,
  "nbformat_minor": 0
}