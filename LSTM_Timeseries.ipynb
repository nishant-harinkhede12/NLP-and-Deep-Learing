{
  "nbformat": 4,
  "nbformat_minor": 0,
  "metadata": {
    "colab": {
      "name": "Untitled47.ipynb",
      "provenance": [],
      "authorship_tag": "ABX9TyNQljyB74pN9rT797fhfmkQ",
      "include_colab_link": true
    },
    "kernelspec": {
      "name": "python3",
      "display_name": "Python 3"
    },
    "language_info": {
      "name": "python"
    }
  },
  "cells": [
    {
      "cell_type": "markdown",
      "metadata": {
        "id": "view-in-github",
        "colab_type": "text"
      },
      "source": [
        "<a href=\"https://colab.research.google.com/github/nishant-harinkhede12/NLP-and-Deep-Learing/blob/main/LSTM_Timeseries.ipynb\" target=\"_parent\"><img src=\"https://colab.research.google.com/assets/colab-badge.svg\" alt=\"Open In Colab\"/></a>"
      ]
    },
    {
      "cell_type": "markdown",
      "source": [
        "#STOCK MARKET PREDICTION AND ANALYSIS BY LSTM"
      ],
      "metadata": {
        "id": "j0V5aOc9rMES"
      }
    },
    {
      "cell_type": "code",
      "source": [
        "url = 'https://raw.githubusercontent.com/nishant-harinkhede12/Advanced-M-L-projects/main/AAPL.csv'"
      ],
      "metadata": {
        "id": "OBWYhvkwrJof"
      },
      "execution_count": 2,
      "outputs": []
    },
    {
      "cell_type": "code",
      "source": [
        "import pandas as pd\n",
        "df=pd.read_csv(url)"
      ],
      "metadata": {
        "id": "RLfLd6dP9LdM"
      },
      "execution_count": 3,
      "outputs": []
    },
    {
      "cell_type": "code",
      "source": [
        "df.head()"
      ],
      "metadata": {
        "colab": {
          "base_uri": "https://localhost:8080/",
          "height": 206
        },
        "id": "7BH1FDmk9WOu",
        "outputId": "97d1f1f9-c746-47a5-cacf-96c405ceb31b"
      },
      "execution_count": 4,
      "outputs": [
        {
          "output_type": "execute_result",
          "data": {
            "text/plain": [
              "         Date        Open        High         Low       Close   Adj Close  \\\n",
              "0  2020-10-19  119.959999  120.419998  115.660004  115.980003  115.238815   \n",
              "1  2020-10-20  116.199997  118.980003  115.629997  117.510002  116.759026   \n",
              "2  2020-10-21  116.669998  118.709999  116.449997  116.870003  116.123123   \n",
              "3  2020-10-22  117.449997  118.040001  114.589996  115.750000  115.010284   \n",
              "4  2020-10-23  116.389999  116.550003  114.279999  115.040001  114.304810   \n",
              "\n",
              "      Volume  \n",
              "0  120639300  \n",
              "1  124423700  \n",
              "2   89946000  \n",
              "3  101988000  \n",
              "4   82572600  "
            ],
            "text/html": [
              "\n",
              "  <div id=\"df-dd978ca2-e12b-4e80-a87c-2b6a4d58bd9b\">\n",
              "    <div class=\"colab-df-container\">\n",
              "      <div>\n",
              "<style scoped>\n",
              "    .dataframe tbody tr th:only-of-type {\n",
              "        vertical-align: middle;\n",
              "    }\n",
              "\n",
              "    .dataframe tbody tr th {\n",
              "        vertical-align: top;\n",
              "    }\n",
              "\n",
              "    .dataframe thead th {\n",
              "        text-align: right;\n",
              "    }\n",
              "</style>\n",
              "<table border=\"1\" class=\"dataframe\">\n",
              "  <thead>\n",
              "    <tr style=\"text-align: right;\">\n",
              "      <th></th>\n",
              "      <th>Date</th>\n",
              "      <th>Open</th>\n",
              "      <th>High</th>\n",
              "      <th>Low</th>\n",
              "      <th>Close</th>\n",
              "      <th>Adj Close</th>\n",
              "      <th>Volume</th>\n",
              "    </tr>\n",
              "  </thead>\n",
              "  <tbody>\n",
              "    <tr>\n",
              "      <th>0</th>\n",
              "      <td>2020-10-19</td>\n",
              "      <td>119.959999</td>\n",
              "      <td>120.419998</td>\n",
              "      <td>115.660004</td>\n",
              "      <td>115.980003</td>\n",
              "      <td>115.238815</td>\n",
              "      <td>120639300</td>\n",
              "    </tr>\n",
              "    <tr>\n",
              "      <th>1</th>\n",
              "      <td>2020-10-20</td>\n",
              "      <td>116.199997</td>\n",
              "      <td>118.980003</td>\n",
              "      <td>115.629997</td>\n",
              "      <td>117.510002</td>\n",
              "      <td>116.759026</td>\n",
              "      <td>124423700</td>\n",
              "    </tr>\n",
              "    <tr>\n",
              "      <th>2</th>\n",
              "      <td>2020-10-21</td>\n",
              "      <td>116.669998</td>\n",
              "      <td>118.709999</td>\n",
              "      <td>116.449997</td>\n",
              "      <td>116.870003</td>\n",
              "      <td>116.123123</td>\n",
              "      <td>89946000</td>\n",
              "    </tr>\n",
              "    <tr>\n",
              "      <th>3</th>\n",
              "      <td>2020-10-22</td>\n",
              "      <td>117.449997</td>\n",
              "      <td>118.040001</td>\n",
              "      <td>114.589996</td>\n",
              "      <td>115.750000</td>\n",
              "      <td>115.010284</td>\n",
              "      <td>101988000</td>\n",
              "    </tr>\n",
              "    <tr>\n",
              "      <th>4</th>\n",
              "      <td>2020-10-23</td>\n",
              "      <td>116.389999</td>\n",
              "      <td>116.550003</td>\n",
              "      <td>114.279999</td>\n",
              "      <td>115.040001</td>\n",
              "      <td>114.304810</td>\n",
              "      <td>82572600</td>\n",
              "    </tr>\n",
              "  </tbody>\n",
              "</table>\n",
              "</div>\n",
              "      <button class=\"colab-df-convert\" onclick=\"convertToInteractive('df-dd978ca2-e12b-4e80-a87c-2b6a4d58bd9b')\"\n",
              "              title=\"Convert this dataframe to an interactive table.\"\n",
              "              style=\"display:none;\">\n",
              "        \n",
              "  <svg xmlns=\"http://www.w3.org/2000/svg\" height=\"24px\"viewBox=\"0 0 24 24\"\n",
              "       width=\"24px\">\n",
              "    <path d=\"M0 0h24v24H0V0z\" fill=\"none\"/>\n",
              "    <path d=\"M18.56 5.44l.94 2.06.94-2.06 2.06-.94-2.06-.94-.94-2.06-.94 2.06-2.06.94zm-11 1L8.5 8.5l.94-2.06 2.06-.94-2.06-.94L8.5 2.5l-.94 2.06-2.06.94zm10 10l.94 2.06.94-2.06 2.06-.94-2.06-.94-.94-2.06-.94 2.06-2.06.94z\"/><path d=\"M17.41 7.96l-1.37-1.37c-.4-.4-.92-.59-1.43-.59-.52 0-1.04.2-1.43.59L10.3 9.45l-7.72 7.72c-.78.78-.78 2.05 0 2.83L4 21.41c.39.39.9.59 1.41.59.51 0 1.02-.2 1.41-.59l7.78-7.78 2.81-2.81c.8-.78.8-2.07 0-2.86zM5.41 20L4 18.59l7.72-7.72 1.47 1.35L5.41 20z\"/>\n",
              "  </svg>\n",
              "      </button>\n",
              "      \n",
              "  <style>\n",
              "    .colab-df-container {\n",
              "      display:flex;\n",
              "      flex-wrap:wrap;\n",
              "      gap: 12px;\n",
              "    }\n",
              "\n",
              "    .colab-df-convert {\n",
              "      background-color: #E8F0FE;\n",
              "      border: none;\n",
              "      border-radius: 50%;\n",
              "      cursor: pointer;\n",
              "      display: none;\n",
              "      fill: #1967D2;\n",
              "      height: 32px;\n",
              "      padding: 0 0 0 0;\n",
              "      width: 32px;\n",
              "    }\n",
              "\n",
              "    .colab-df-convert:hover {\n",
              "      background-color: #E2EBFA;\n",
              "      box-shadow: 0px 1px 2px rgba(60, 64, 67, 0.3), 0px 1px 3px 1px rgba(60, 64, 67, 0.15);\n",
              "      fill: #174EA6;\n",
              "    }\n",
              "\n",
              "    [theme=dark] .colab-df-convert {\n",
              "      background-color: #3B4455;\n",
              "      fill: #D2E3FC;\n",
              "    }\n",
              "\n",
              "    [theme=dark] .colab-df-convert:hover {\n",
              "      background-color: #434B5C;\n",
              "      box-shadow: 0px 1px 3px 1px rgba(0, 0, 0, 0.15);\n",
              "      filter: drop-shadow(0px 1px 2px rgba(0, 0, 0, 0.3));\n",
              "      fill: #FFFFFF;\n",
              "    }\n",
              "  </style>\n",
              "\n",
              "      <script>\n",
              "        const buttonEl =\n",
              "          document.querySelector('#df-dd978ca2-e12b-4e80-a87c-2b6a4d58bd9b button.colab-df-convert');\n",
              "        buttonEl.style.display =\n",
              "          google.colab.kernel.accessAllowed ? 'block' : 'none';\n",
              "\n",
              "        async function convertToInteractive(key) {\n",
              "          const element = document.querySelector('#df-dd978ca2-e12b-4e80-a87c-2b6a4d58bd9b');\n",
              "          const dataTable =\n",
              "            await google.colab.kernel.invokeFunction('convertToInteractive',\n",
              "                                                     [key], {});\n",
              "          if (!dataTable) return;\n",
              "\n",
              "          const docLinkHtml = 'Like what you see? Visit the ' +\n",
              "            '<a target=\"_blank\" href=https://colab.research.google.com/notebooks/data_table.ipynb>data table notebook</a>'\n",
              "            + ' to learn more about interactive tables.';\n",
              "          element.innerHTML = '';\n",
              "          dataTable['output_type'] = 'display_data';\n",
              "          await google.colab.output.renderOutput(dataTable, element);\n",
              "          const docLink = document.createElement('div');\n",
              "          docLink.innerHTML = docLinkHtml;\n",
              "          element.appendChild(docLink);\n",
              "        }\n",
              "      </script>\n",
              "    </div>\n",
              "  </div>\n",
              "  "
            ]
          },
          "metadata": {},
          "execution_count": 4
        }
      ]
    },
    {
      "cell_type": "code",
      "source": [
        "df1=df.reset_index()['Close']"
      ],
      "metadata": {
        "id": "Kq7eg8Gr9c_a"
      },
      "execution_count": 5,
      "outputs": []
    },
    {
      "cell_type": "code",
      "source": [
        "df1"
      ],
      "metadata": {
        "colab": {
          "base_uri": "https://localhost:8080/"
        },
        "id": "riWW-YAQ9n6K",
        "outputId": "365f436f-619f-4fa7-c635-84ff77465c1b"
      },
      "execution_count": null,
      "outputs": [
        {
          "output_type": "execute_result",
          "data": {
            "text/plain": [
              "0      115.980003\n",
              "1      117.510002\n",
              "2      116.870003\n",
              "3      115.750000\n",
              "4      115.040001\n",
              "          ...    \n",
              "247    141.509995\n",
              "248    140.910004\n",
              "249    143.759995\n",
              "250    144.839996\n",
              "251    146.550003\n",
              "Name: Close, Length: 252, dtype: float64"
            ]
          },
          "metadata": {},
          "execution_count": 5
        }
      ]
    },
    {
      "cell_type": "code",
      "source": [
        "import matplotlib.pyplot as plt\n",
        "plt.plot(df1)"
      ],
      "metadata": {
        "colab": {
          "base_uri": "https://localhost:8080/",
          "height": 283
        },
        "id": "y3qWIttA9tF8",
        "outputId": "78f13238-e472-4594-8077-81952039b813"
      },
      "execution_count": 6,
      "outputs": [
        {
          "output_type": "execute_result",
          "data": {
            "text/plain": [
              "[<matplotlib.lines.Line2D at 0x7f13c7011fd0>]"
            ]
          },
          "metadata": {},
          "execution_count": 6
        },
        {
          "output_type": "display_data",
          "data": {
            "text/plain": [
              "<Figure size 432x288 with 1 Axes>"
            ],
            "image/png": "[encoded data removed]"
          },
          "metadata": {
            "needs_background": "light"
          }
        }
      ]
    },
    {
      "cell_type": "markdown",
      "source": [
        "### LSTM are sensitive to the scale of the data. so we apply MinMax scaler "
      ],
      "metadata": {
        "id": "3yj6dcIcAJQF"
      }
    },
    {
      "cell_type": "code",
      "source": [
        "\n",
        "import numpy as np\n",
        "from sklearn.preprocessing import MinMaxScaler\n",
        "scaler=MinMaxScaler(feature_range=(0,1))\n",
        "df1=scaler.fit_transform(np.array(df1).reshape(-1,1))"
      ],
      "metadata": {
        "id": "Ur9927q9_-t4"
      },
      "execution_count": 7,
      "outputs": []
    },
    {
      "cell_type": "code",
      "source": [
        "print(df1.shape)\n",
        "print(df1[0:5])"
      ],
      "metadata": {
        "colab": {
          "base_uri": "https://localhost:8080/"
        },
        "id": "rINcV64qs4NZ",
        "outputId": "2e027e63-ccf8-48ca-d5aa-c11389d5cf0d"
      },
      "execution_count": 8,
      "outputs": [
        {
          "output_type": "stream",
          "name": "stdout",
          "text": [
            "(252, 1)\n",
            "[[0.15045921]\n",
            " [0.1823874 ]\n",
            " [0.16903183]\n",
            " [0.14565948]\n",
            " [0.13084314]]\n"
          ]
        }
      ]
    },
    {
      "cell_type": "markdown",
      "source": [
        "##splitting dataset into train and test split\n",
        "\n",
        "For timeseries data, we must divide the data in different way b'coz, todays closing price of stock is dependent on previous days closing\n"
      ],
      "metadata": {
        "id": "FLfAwhKiAMLP"
      }
    },
    {
      "cell_type": "code",
      "source": [
        "training_size=int(len(df1)*0.65)\n",
        "test_size=len(df1)-training_size\n",
        "train_data,test_data=df1[0:training_size,:],df1[training_size:len(df1),:1]"
      ],
      "metadata": {
        "id": "t45kyP_PARAB"
      },
      "execution_count": 9,
      "outputs": []
    },
    {
      "cell_type": "code",
      "source": [
        "training_size,test_size"
      ],
      "metadata": {
        "colab": {
          "base_uri": "https://localhost:8080/"
        },
        "id": "RDDqo6uoAhWf",
        "outputId": "8f8ba257-dac4-455a-e23f-214df17f66de"
      },
      "execution_count": 10,
      "outputs": [
        {
          "output_type": "execute_result",
          "data": {
            "text/plain": [
              "(163, 89)"
            ]
          },
          "metadata": {},
          "execution_count": 10
        }
      ]
    },
    {
      "cell_type": "code",
      "source": [
        "train_data[:15]"
      ],
      "metadata": {
        "colab": {
          "base_uri": "https://localhost:8080/"
        },
        "id": "iD2xvDZiAkqi",
        "outputId": "8ff9294f-01f4-4e1a-96c2-1951a7947c2f"
      },
      "execution_count": 11,
      "outputs": [
        {
          "output_type": "execute_result",
          "data": {
            "text/plain": [
              "array([[0.15045921],\n",
              "       [0.1823874 ],\n",
              "       [0.16903183],\n",
              "       [0.14565948],\n",
              "       [0.13084314],\n",
              "       [0.13105186],\n",
              "       [0.16339733],\n",
              "       [0.05070951],\n",
              "       [0.13668619],\n",
              "       [0.00187821],\n",
              "       [0.        ],\n",
              "       [0.03484985],\n",
              "       [0.12896493],\n",
              "       [0.21410686],\n",
              "       [0.20701177]])"
            ]
          },
          "metadata": {},
          "execution_count": 11
        }
      ]
    },
    {
      "cell_type": "code",
      "source": [
        "test_data[0:15]"
      ],
      "metadata": {
        "colab": {
          "base_uri": "https://localhost:8080/"
        },
        "id": "yAdi3darAmck",
        "outputId": "8e866ad3-958d-4369-859d-54fffcb371b8"
      },
      "execution_count": 12,
      "outputs": [
        {
          "output_type": "execute_result",
          "data": {
            "text/plain": [
              "array([[0.45304668],\n",
              "       [0.43551753],\n",
              "       [0.44616016],\n",
              "       [0.48038384],\n",
              "       [0.45262954],\n",
              "       [0.49102679],\n",
              "       [0.52608507],\n",
              "       [0.52024202],\n",
              "       [0.51419041],\n",
              "       [0.50792991],\n",
              "       [0.54277962],\n",
              "       [0.57512525],\n",
              "       [0.58827227],\n",
              "       [0.59474132],\n",
              "       [0.6508766 ]])"
            ]
          },
          "metadata": {},
          "execution_count": 12
        }
      ]
    },
    {
      "cell_type": "markdown",
      "source": [
        "# convert an array of values into a dataset matrix as \n",
        "todays closing price of stock is dependent on previous days closing"
      ],
      "metadata": {
        "id": "_lN3nFhBA3ks"
      }
    },
    {
      "cell_type": "code",
      "source": [
        "import numpy\n",
        "def create_dataset(dataset, time_step=1):\n",
        "\tdataX, dataY = [], []\n",
        "\tfor i in range(len(dataset)-time_step-1):\n",
        "\t\ta = dataset[i:(i+time_step), 0]   ###iteration=0, 0,1,2,3-----99   100 \n",
        "\t\tdataX.append(a)\n",
        "\t\tdataY.append(dataset[i + time_step, 0])\n",
        "\treturn numpy.array(dataX), numpy.array(dataY)"
      ],
      "metadata": {
        "id": "WQYtdFu8Ap54"
      },
      "execution_count": 13,
      "outputs": []
    },
    {
      "cell_type": "markdown",
      "source": [
        "# reshape into X=t,t+1,t+2,t+3 and Y=t+4\n"
      ],
      "metadata": {
        "id": "ZJpn0I2mBKri"
      }
    },
    {
      "cell_type": "code",
      "source": [
        "time_step = 75\n",
        "X_train, y_train = create_dataset(train_data, time_step)\n",
        "X_test, ytest = create_dataset(test_data, time_step)"
      ],
      "metadata": {
        "id": "2SH3uB6jBLio"
      },
      "execution_count": 14,
      "outputs": []
    },
    {
      "cell_type": "code",
      "source": [
        "print(X_train.shape), print(y_train.shape)"
      ],
      "metadata": {
        "colab": {
          "base_uri": "https://localhost:8080/"
        },
        "id": "pdEUGJg1BZYM",
        "outputId": "f2d497e2-a1ca-431a-8fa6-f9a75c458878"
      },
      "execution_count": 15,
      "outputs": [
        {
          "output_type": "stream",
          "name": "stdout",
          "text": [
            "(87, 75)\n",
            "(87,)\n"
          ]
        },
        {
          "output_type": "execute_result",
          "data": {
            "text/plain": [
              "(None, None)"
            ]
          },
          "metadata": {},
          "execution_count": 15
        }
      ]
    },
    {
      "cell_type": "code",
      "source": [
        "print(X_test.shape), print(ytest.shape)"
      ],
      "metadata": {
        "colab": {
          "base_uri": "https://localhost:8080/"
        },
        "id": "tWxkxPcGBgsL",
        "outputId": "c4894518-7f72-48ee-a2e6-f38bf4c3e164"
      },
      "execution_count": 16,
      "outputs": [
        {
          "output_type": "stream",
          "name": "stdout",
          "text": [
            "(13, 75)\n",
            "(13,)\n"
          ]
        },
        {
          "output_type": "execute_result",
          "data": {
            "text/plain": [
              "(None, None)"
            ]
          },
          "metadata": {},
          "execution_count": 16
        }
      ]
    },
    {
      "cell_type": "markdown",
      "source": [
        "# reshape input to be [samples, time steps, features] which is required for LSTM"
      ],
      "metadata": {
        "id": "_H9QrneTB8SK"
      }
    },
    {
      "cell_type": "code",
      "source": [
        "\n",
        "X_train =X_train.reshape(X_train.shape[0],X_train.shape[1] , 1)\n",
        "X_test = X_test.reshape(X_test.shape[0],X_test.shape[1] , 1)"
      ],
      "metadata": {
        "id": "gZOPkioIB4jn"
      },
      "execution_count": 17,
      "outputs": []
    },
    {
      "cell_type": "markdown",
      "source": [
        "### Create the Stacked LSTM model"
      ],
      "metadata": {
        "id": "at0Z1sVACV8v"
      }
    },
    {
      "cell_type": "code",
      "source": [
        "\n",
        "from tensorflow.keras.models import Sequential\n",
        "from tensorflow.keras.layers import Dense\n",
        "from tensorflow.keras.layers import LSTM"
      ],
      "metadata": {
        "id": "HNl2EimUCAgb"
      },
      "execution_count": 18,
      "outputs": []
    },
    {
      "cell_type": "code",
      "source": [
        "model=Sequential()\n",
        "model.add(LSTM(50,return_sequences=True,input_shape=(75,1)))#75 features\n",
        "model.add(LSTM(50,return_sequences=True))\n",
        "model.add(LSTM(50))\n",
        "model.add(Dense(1))\n",
        "model.compile(loss='mean_squared_error',optimizer='adam')"
      ],
      "metadata": {
        "id": "5JjuLH9FCZxt"
      },
      "execution_count": 20,
      "outputs": []
    },
    {
      "cell_type": "code",
      "source": [
        "model.summary()"
      ],
      "metadata": {
        "colab": {
          "base_uri": "https://localhost:8080/"
        },
        "id": "1pqy0YM8CgqQ",
        "outputId": "2ec6a271-8b4a-4388-ffd9-bd8c853177df"
      },
      "execution_count": null,
      "outputs": [
        {
          "output_type": "stream",
          "name": "stdout",
          "text": [
            "Model: \"sequential_1\"\n",
            "_________________________________________________________________\n",
            " Layer (type)                Output Shape              Param #   \n",
            "=================================================================\n",
            " lstm_3 (LSTM)               (None, 75, 50)            10400     \n",
            "                                                                 \n",
            " lstm_4 (LSTM)               (None, 75, 50)            20200     \n",
            "                                                                 \n",
            " lstm_5 (LSTM)               (None, 50)                20200     \n",
            "                                                                 \n",
            " dense_1 (Dense)             (None, 1)                 51        \n",
            "                                                                 \n",
            "=================================================================\n",
            "Total params: 50,851\n",
            "Trainable params: 50,851\n",
            "Non-trainable params: 0\n",
            "_________________________________________________________________\n"
          ]
        }
      ]
    },
    {
      "cell_type": "code",
      "source": [
        "model.fit(X_train,y_train,validation_data=(X_test,ytest),epochs=100,batch_size=64,verbose=1)"
      ],
      "metadata": {
        "colab": {
          "base_uri": "https://localhost:8080/"
        },
        "id": "PRewPCb2CnS1",
        "outputId": "873cd72d-7425-4d53-e5ce-33eb31f27327"
      },
      "execution_count": 21,
      "outputs": [
        {
          "output_type": "stream",
          "name": "stdout",
          "text": [
            "Epoch 1/100\n",
            "2/2 [==============================] - 7s 1s/step - loss: 0.1223 - val_loss: 0.1751\n",
            "Epoch 2/100\n",
            "2/2 [==============================] - 0s 136ms/step - loss: 0.0503 - val_loss: 0.0096\n",
            "Epoch 3/100\n",
            "2/2 [==============================] - 0s 146ms/step - loss: 0.0173 - val_loss: 0.0184\n",
            "Epoch 4/100\n",
            "2/2 [==============================] - 0s 144ms/step - loss: 0.0323 - val_loss: 0.0017\n",
            "Epoch 5/100\n",
            "2/2 [==============================] - 0s 136ms/step - loss: 0.0145 - val_loss: 0.0258\n",
            "Epoch 6/100\n",
            "2/2 [==============================] - 0s 144ms/step - loss: 0.0129 - val_loss: 0.0557\n",
            "Epoch 7/100\n",
            "2/2 [==============================] - 0s 144ms/step - loss: 0.0172 - val_loss: 0.0624\n",
            "Epoch 8/100\n",
            "2/2 [==============================] - 0s 136ms/step - loss: 0.0172 - val_loss: 0.0491\n",
            "Epoch 9/100\n",
            "2/2 [==============================] - 0s 133ms/step - loss: 0.0132 - val_loss: 0.0287\n",
            "Epoch 10/100\n",
            "2/2 [==============================] - 0s 149ms/step - loss: 0.0105 - val_loss: 0.0125\n",
            "Epoch 11/100\n",
            "2/2 [==============================] - 0s 135ms/step - loss: 0.0112 - val_loss: 0.0066\n",
            "Epoch 12/100\n",
            "2/2 [==============================] - 0s 134ms/step - loss: 0.0129 - val_loss: 0.0082\n",
            "Epoch 13/100\n",
            "2/2 [==============================] - 0s 138ms/step - loss: 0.0118 - val_loss: 0.0166\n",
            "Epoch 14/100\n",
            "2/2 [==============================] - 0s 138ms/step - loss: 0.0099 - val_loss: 0.0301\n",
            "Epoch 15/100\n",
            "2/2 [==============================] - 0s 137ms/step - loss: 0.0098 - val_loss: 0.0422\n",
            "Epoch 16/100\n",
            "2/2 [==============================] - 0s 134ms/step - loss: 0.0106 - val_loss: 0.0472\n",
            "Epoch 17/100\n",
            "2/2 [==============================] - 0s 139ms/step - loss: 0.0110 - val_loss: 0.0447\n",
            "Epoch 18/100\n",
            "2/2 [==============================] - 0s 131ms/step - loss: 0.0104 - val_loss: 0.0367\n",
            "Epoch 19/100\n",
            "2/2 [==============================] - 0s 143ms/step - loss: 0.0094 - val_loss: 0.0275\n",
            "Epoch 20/100\n",
            "2/2 [==============================] - 0s 132ms/step - loss: 0.0091 - val_loss: 0.0202\n",
            "Epoch 21/100\n",
            "2/2 [==============================] - 0s 145ms/step - loss: 0.0096 - val_loss: 0.0183\n",
            "Epoch 22/100\n",
            "2/2 [==============================] - 0s 142ms/step - loss: 0.0096 - val_loss: 0.0222\n",
            "Epoch 23/100\n",
            "2/2 [==============================] - 0s 131ms/step - loss: 0.0091 - val_loss: 0.0280\n",
            "Epoch 24/100\n",
            "2/2 [==============================] - 0s 130ms/step - loss: 0.0087 - val_loss: 0.0341\n",
            "Epoch 25/100\n",
            "2/2 [==============================] - 0s 139ms/step - loss: 0.0087 - val_loss: 0.0388\n",
            "Epoch 26/100\n",
            "2/2 [==============================] - 0s 131ms/step - loss: 0.0087 - val_loss: 0.0390\n",
            "Epoch 27/100\n",
            "2/2 [==============================] - 0s 133ms/step - loss: 0.0085 - val_loss: 0.0351\n",
            "Epoch 28/100\n",
            "2/2 [==============================] - 0s 165ms/step - loss: 0.0083 - val_loss: 0.0297\n",
            "Epoch 29/100\n",
            "2/2 [==============================] - 0s 133ms/step - loss: 0.0081 - val_loss: 0.0265\n",
            "Epoch 30/100\n",
            "2/2 [==============================] - 0s 130ms/step - loss: 0.0082 - val_loss: 0.0265\n",
            "Epoch 31/100\n",
            "2/2 [==============================] - 0s 139ms/step - loss: 0.0080 - val_loss: 0.0306\n",
            "Epoch 32/100\n",
            "2/2 [==============================] - 0s 146ms/step - loss: 0.0076 - val_loss: 0.0358\n",
            "Epoch 33/100\n",
            "2/2 [==============================] - 0s 134ms/step - loss: 0.0074 - val_loss: 0.0424\n",
            "Epoch 34/100\n",
            "2/2 [==============================] - 0s 136ms/step - loss: 0.0073 - val_loss: 0.0454\n",
            "Epoch 35/100\n",
            "2/2 [==============================] - 0s 136ms/step - loss: 0.0071 - val_loss: 0.0428\n",
            "Epoch 36/100\n",
            "2/2 [==============================] - 0s 145ms/step - loss: 0.0067 - val_loss: 0.0375\n",
            "Epoch 37/100\n",
            "2/2 [==============================] - 0s 138ms/step - loss: 0.0066 - val_loss: 0.0364\n",
            "Epoch 38/100\n",
            "2/2 [==============================] - 0s 134ms/step - loss: 0.0063 - val_loss: 0.0462\n",
            "Epoch 39/100\n",
            "2/2 [==============================] - 0s 139ms/step - loss: 0.0058 - val_loss: 0.0622\n",
            "Epoch 40/100\n",
            "2/2 [==============================] - 0s 137ms/step - loss: 0.0057 - val_loss: 0.0658\n",
            "Epoch 41/100\n",
            "2/2 [==============================] - 0s 141ms/step - loss: 0.0052 - val_loss: 0.0536\n",
            "Epoch 42/100\n",
            "2/2 [==============================] - 0s 148ms/step - loss: 0.0047 - val_loss: 0.0539\n",
            "Epoch 43/100\n",
            "2/2 [==============================] - 0s 157ms/step - loss: 0.0044 - val_loss: 0.0706\n",
            "Epoch 44/100\n",
            "2/2 [==============================] - 0s 143ms/step - loss: 0.0040 - val_loss: 0.0903\n",
            "Epoch 45/100\n",
            "2/2 [==============================] - 0s 138ms/step - loss: 0.0039 - val_loss: 0.0890\n",
            "Epoch 46/100\n",
            "2/2 [==============================] - 0s 134ms/step - loss: 0.0036 - val_loss: 0.0844\n",
            "Epoch 47/100\n",
            "2/2 [==============================] - 0s 138ms/step - loss: 0.0036 - val_loss: 0.0949\n",
            "Epoch 48/100\n",
            "2/2 [==============================] - 0s 139ms/step - loss: 0.0036 - val_loss: 0.1082\n",
            "Epoch 49/100\n",
            "2/2 [==============================] - 0s 136ms/step - loss: 0.0035 - val_loss: 0.0955\n",
            "Epoch 50/100\n",
            "2/2 [==============================] - 0s 140ms/step - loss: 0.0036 - val_loss: 0.1015\n",
            "Epoch 51/100\n",
            "2/2 [==============================] - 0s 137ms/step - loss: 0.0035 - val_loss: 0.1098\n",
            "Epoch 52/100\n",
            "2/2 [==============================] - 0s 132ms/step - loss: 0.0034 - val_loss: 0.1183\n",
            "Epoch 53/100\n",
            "2/2 [==============================] - 0s 140ms/step - loss: 0.0035 - val_loss: 0.1020\n",
            "Epoch 54/100\n",
            "2/2 [==============================] - 0s 142ms/step - loss: 0.0035 - val_loss: 0.0937\n",
            "Epoch 55/100\n",
            "2/2 [==============================] - 0s 135ms/step - loss: 0.0035 - val_loss: 0.1034\n",
            "Epoch 56/100\n",
            "2/2 [==============================] - 0s 136ms/step - loss: 0.0034 - val_loss: 0.0860\n",
            "Epoch 57/100\n",
            "2/2 [==============================] - 0s 139ms/step - loss: 0.0034 - val_loss: 0.0708\n",
            "Epoch 58/100\n",
            "2/2 [==============================] - 0s 133ms/step - loss: 0.0037 - val_loss: 0.0902\n",
            "Epoch 59/100\n",
            "2/2 [==============================] - 0s 182ms/step - loss: 0.0035 - val_loss: 0.1003\n",
            "Epoch 60/100\n",
            "2/2 [==============================] - 0s 138ms/step - loss: 0.0035 - val_loss: 0.0791\n",
            "Epoch 61/100\n",
            "2/2 [==============================] - 0s 185ms/step - loss: 0.0034 - val_loss: 0.0816\n",
            "Epoch 62/100\n",
            "2/2 [==============================] - 0s 134ms/step - loss: 0.0032 - val_loss: 0.1029\n",
            "Epoch 63/100\n",
            "2/2 [==============================] - 0s 132ms/step - loss: 0.0037 - val_loss: 0.0935\n",
            "Epoch 64/100\n",
            "2/2 [==============================] - 0s 141ms/step - loss: 0.0033 - val_loss: 0.0653\n",
            "Epoch 65/100\n",
            "2/2 [==============================] - 0s 237ms/step - loss: 0.0037 - val_loss: 0.0794\n",
            "Epoch 66/100\n",
            "2/2 [==============================] - 0s 207ms/step - loss: 0.0031 - val_loss: 0.1113\n",
            "Epoch 67/100\n",
            "2/2 [==============================] - 0s 232ms/step - loss: 0.0039 - val_loss: 0.1056\n",
            "Epoch 68/100\n",
            "2/2 [==============================] - 0s 224ms/step - loss: 0.0035 - val_loss: 0.0746\n",
            "Epoch 69/100\n",
            "2/2 [==============================] - 0s 217ms/step - loss: 0.0035 - val_loss: 0.0760\n",
            "Epoch 70/100\n",
            "2/2 [==============================] - 0s 219ms/step - loss: 0.0034 - val_loss: 0.0956\n",
            "Epoch 71/100\n",
            "2/2 [==============================] - 0s 201ms/step - loss: 0.0033 - val_loss: 0.0912\n",
            "Epoch 72/100\n",
            "2/2 [==============================] - 0s 279ms/step - loss: 0.0033 - val_loss: 0.0823\n",
            "Epoch 73/100\n",
            "2/2 [==============================] - 1s 379ms/step - loss: 0.0032 - val_loss: 0.0865\n",
            "Epoch 74/100\n",
            "2/2 [==============================] - 1s 177ms/step - loss: 0.0032 - val_loss: 0.0882\n",
            "Epoch 75/100\n",
            "2/2 [==============================] - 0s 158ms/step - loss: 0.0032 - val_loss: 0.0890\n",
            "Epoch 76/100\n",
            "2/2 [==============================] - 0s 140ms/step - loss: 0.0033 - val_loss: 0.0803\n",
            "Epoch 77/100\n",
            "2/2 [==============================] - 0s 139ms/step - loss: 0.0032 - val_loss: 0.0665\n",
            "Epoch 78/100\n",
            "2/2 [==============================] - 0s 134ms/step - loss: 0.0035 - val_loss: 0.0807\n",
            "Epoch 79/100\n",
            "2/2 [==============================] - 0s 136ms/step - loss: 0.0031 - val_loss: 0.1025\n",
            "Epoch 80/100\n",
            "2/2 [==============================] - 0s 138ms/step - loss: 0.0036 - val_loss: 0.0940\n",
            "Epoch 81/100\n",
            "2/2 [==============================] - 0s 141ms/step - loss: 0.0033 - val_loss: 0.0726\n",
            "Epoch 82/100\n",
            "2/2 [==============================] - 0s 132ms/step - loss: 0.0032 - val_loss: 0.0670\n",
            "Epoch 83/100\n",
            "2/2 [==============================] - 0s 146ms/step - loss: 0.0033 - val_loss: 0.0803\n",
            "Epoch 84/100\n",
            "2/2 [==============================] - 0s 132ms/step - loss: 0.0032 - val_loss: 0.0963\n",
            "Epoch 85/100\n",
            "2/2 [==============================] - 0s 144ms/step - loss: 0.0034 - val_loss: 0.0817\n",
            "Epoch 86/100\n",
            "2/2 [==============================] - 0s 141ms/step - loss: 0.0031 - val_loss: 0.0669\n",
            "Epoch 87/100\n",
            "2/2 [==============================] - 0s 153ms/step - loss: 0.0033 - val_loss: 0.0750\n",
            "Epoch 88/100\n",
            "2/2 [==============================] - 0s 145ms/step - loss: 0.0032 - val_loss: 0.0885\n",
            "Epoch 89/100\n",
            "2/2 [==============================] - 0s 140ms/step - loss: 0.0033 - val_loss: 0.0791\n",
            "Epoch 90/100\n",
            "2/2 [==============================] - 0s 140ms/step - loss: 0.0031 - val_loss: 0.0689\n",
            "Epoch 91/100\n",
            "2/2 [==============================] - 0s 144ms/step - loss: 0.0032 - val_loss: 0.0749\n",
            "Epoch 92/100\n",
            "2/2 [==============================] - 0s 139ms/step - loss: 0.0031 - val_loss: 0.0896\n",
            "Epoch 93/100\n",
            "2/2 [==============================] - 0s 142ms/step - loss: 0.0033 - val_loss: 0.0811\n",
            "Epoch 94/100\n",
            "2/2 [==============================] - 0s 142ms/step - loss: 0.0032 - val_loss: 0.0710\n",
            "Epoch 95/100\n",
            "2/2 [==============================] - 0s 138ms/step - loss: 0.0031 - val_loss: 0.0742\n",
            "Epoch 96/100\n",
            "2/2 [==============================] - 0s 145ms/step - loss: 0.0031 - val_loss: 0.0767\n",
            "Epoch 97/100\n",
            "2/2 [==============================] - 0s 138ms/step - loss: 0.0031 - val_loss: 0.0735\n",
            "Epoch 98/100\n",
            "2/2 [==============================] - 0s 135ms/step - loss: 0.0031 - val_loss: 0.0781\n",
            "Epoch 99/100\n",
            "2/2 [==============================] - 0s 135ms/step - loss: 0.0031 - val_loss: 0.0833\n",
            "Epoch 100/100\n",
            "2/2 [==============================] - 0s 152ms/step - loss: 0.0031 - val_loss: 0.0732\n"
          ]
        },
        {
          "output_type": "execute_result",
          "data": {
            "text/plain": [
              "<keras.callbacks.History at 0x7f134a239a10>"
            ]
          },
          "metadata": {},
          "execution_count": 21
        }
      ]
    },
    {
      "cell_type": "code",
      "source": [
        "import tensorflow as tf"
      ],
      "metadata": {
        "id": "kZeZBQoLDCmJ"
      },
      "execution_count": 22,
      "outputs": []
    },
    {
      "cell_type": "markdown",
      "source": [
        "### Lets Do the prediction and check performance metrics"
      ],
      "metadata": {
        "id": "blkwaAiiDqNA"
      }
    },
    {
      "cell_type": "code",
      "source": [
        "\n",
        "train_predict=model.predict(X_train)\n",
        "test_predict=model.predict(X_test)"
      ],
      "metadata": {
        "id": "0C46nPy3Do_Z"
      },
      "execution_count": 23,
      "outputs": []
    },
    {
      "cell_type": "markdown",
      "source": [
        "##Transformback to original form\n",
        "Reverse scaling"
      ],
      "metadata": {
        "id": "e0qc3Kqw1unn"
      }
    },
    {
      "cell_type": "code",
      "source": [
        "\n",
        "train_predict=scaler.inverse_transform(train_predict)\n",
        "test_predict=scaler.inverse_transform(test_predict)"
      ],
      "metadata": {
        "id": "DVuddl6Y1sbD"
      },
      "execution_count": 26,
      "outputs": []
    },
    {
      "cell_type": "markdown",
      "source": [
        "### Calculate RMSE performance metrics"
      ],
      "metadata": {
        "id": "bIfL8aVNFCnd"
      }
    },
    {
      "cell_type": "code",
      "source": [
        "import math\n",
        "from sklearn.metrics import mean_squared_error\n",
        "math.sqrt(mean_squared_error(y_train,train_predict))"
      ],
      "metadata": {
        "colab": {
          "base_uri": "https://localhost:8080/"
        },
        "id": "33ubTfTFDydU",
        "outputId": "e87cbb66-9f93-4b64-b691-53a3b4e39db7"
      },
      "execution_count": 27,
      "outputs": [
        {
          "output_type": "execute_result",
          "data": {
            "text/plain": [
              "127.01466137506014"
            ]
          },
          "metadata": {},
          "execution_count": 27
        }
      ]
    },
    {
      "cell_type": "markdown",
      "source": [
        "### Test Data RMSE"
      ],
      "metadata": {
        "id": "q5lRAwkvFIzw"
      }
    },
    {
      "cell_type": "code",
      "source": [
        "\n",
        "math.sqrt(mean_squared_error(ytest,test_predict))"
      ],
      "metadata": {
        "colab": {
          "base_uri": "https://localhost:8080/"
        },
        "id": "hTb2IY97FGNI",
        "outputId": "77e839d2-7ec2-4d17-87ef-119cfcceb80a"
      },
      "execution_count": 28,
      "outputs": [
        {
          "output_type": "execute_result",
          "data": {
            "text/plain": [
              "128.65546561599976"
            ]
          },
          "metadata": {},
          "execution_count": 28
        }
      ]
    },
    {
      "cell_type": "markdown",
      "source": [
        "### Plotting \n",
        "# shift train predictions for plotting"
      ],
      "metadata": {
        "id": "Lpa07bOiFP_l"
      }
    },
    {
      "cell_type": "code",
      "source": [
        "\n",
        "look_back=75\n",
        "trainPredictPlot = numpy.empty_like(df1)\n",
        "trainPredictPlot[:, :] = np.nan\n",
        "trainPredictPlot[look_back:len(train_predict)+look_back, :] = train_predict\n",
        "# shift test predictions for plotting\n",
        "testPredictPlot = numpy.empty_like(df1)\n",
        "testPredictPlot[:, :] = numpy.nan\n",
        "testPredictPlot[len(train_predict)+(look_back*2)+1:len(df1)-1, :] = test_predict\n",
        "# plot baseline and predictions\n",
        "plt.plot(scaler.inverse_transform(df1))\n",
        "plt.plot(trainPredictPlot)\n",
        "plt.plot(testPredictPlot)\n",
        "plt.show()"
      ],
      "metadata": {
        "colab": {
          "base_uri": "https://localhost:8080/",
          "height": 264
        },
        "id": "-n3VeunxFOPb",
        "outputId": "bb6ffc03-2164-4daf-b6c7-9a705e379786"
      },
      "execution_count": 31,
      "outputs": [
        {
          "output_type": "display_data",
          "data": {
            "text/plain": [
              "<Figure size 432x288 with 1 Axes>"
            ],
            "image/png": "[encoded data removed]"
          },
          "metadata": {
            "needs_background": "light"
          }
        }
      ]
    },
    {
      "cell_type": "code",
      "source": [
        "len(test_data)"
      ],
      "metadata": {
        "colab": {
          "base_uri": "https://localhost:8080/"
        },
        "id": "WGeSwG46F2Ez",
        "outputId": "a820f383-acf2-4499-805c-c615b6a91d8b"
      },
      "execution_count": 32,
      "outputs": [
        {
          "output_type": "execute_result",
          "data": {
            "text/plain": [
              "89"
            ]
          },
          "metadata": {},
          "execution_count": 32
        }
      ]
    },
    {
      "cell_type": "code",
      "source": [
        "x_input=test_data[14:].reshape(1,-1)\n",
        "x_input.shape"
      ],
      "metadata": {
        "colab": {
          "base_uri": "https://localhost:8080/"
        },
        "id": "_5evnC8UK34L",
        "outputId": "ba527ac6-ff93-4f4a-b77e-89ac45065290"
      },
      "execution_count": 52,
      "outputs": [
        {
          "output_type": "execute_result",
          "data": {
            "text/plain": [
              "(1, 75)"
            ]
          },
          "metadata": {},
          "execution_count": 52
        }
      ]
    },
    {
      "cell_type": "code",
      "source": [
        "temp_input=list(x_input)\n",
        "temp_input=temp_input[0].tolist()"
      ],
      "metadata": {
        "id": "rMdrCi7GLY1y"
      },
      "execution_count": 53,
      "outputs": []
    },
    {
      "cell_type": "code",
      "source": [
        "temp_input[0:15]"
      ],
      "metadata": {
        "colab": {
          "base_uri": "https://localhost:8080/"
        },
        "id": "1gQniLwoLa27",
        "outputId": "90562164-f292-4a79-8be7-906c9e8f92a2"
      },
      "execution_count": 54,
      "outputs": [
        {
          "output_type": "execute_result",
          "data": {
            "text/plain": [
              "[0.6508766015362477,\n",
              " 0.6938648483029164,\n",
              " 0.7470785948373755,\n",
              " 0.7193239650121073,\n",
              " 0.7583472497550869,\n",
              " 0.7456176809664354,\n",
              " 0.7694073070317917,\n",
              " 0.842654273512701,\n",
              " 0.8286726806476752,\n",
              " 0.7850583905406516,\n",
              " 0.7028379901045501,\n",
              " 0.78004993947726,\n",
              " 0.7643988559683996,\n",
              " 0.7936143996646079,\n",
              " 0.8303421712915098]"
            ]
          },
          "metadata": {},
          "execution_count": 54
        }
      ]
    },
    {
      "cell_type": "code",
      "source": [
        "# demonstrate prediction for next 10 days\n",
        "from numpy import array\n",
        "\n",
        "lst_output=[]\n",
        "n_steps=75\n",
        "i=0\n",
        "while(i<30):\n",
        "    \n",
        "    if(len(temp_input)>75):\n",
        "        #print(temp_input)\n",
        "        x_input=np.array(temp_input[1:])\n",
        "        print(\"{} day input {}\".format(i,x_input))\n",
        "        x_input=x_input.reshape(1,-1)\n",
        "        x_input = x_input.reshape((1, n_steps, 1))\n",
        "        #print(x_input)\n",
        "        yhat = model.predict(x_input, verbose=0)\n",
        "        print(\"{} day output {}\".format(i,yhat))\n",
        "        temp_input.extend(yhat[0].tolist())\n",
        "        temp_input=temp_input[1:]\n",
        "        #print(temp_input)\n",
        "        lst_output.extend(yhat.tolist())\n",
        "        i=i+1\n",
        "    else:\n",
        "        x_input = x_input.reshape((1, n_steps,1))\n",
        "        yhat = model.predict(x_input, verbose=0)\n",
        "        print(yhat[0])\n",
        "        temp_input.extend(yhat[0].tolist())\n",
        "        print(len(temp_input))\n",
        "        lst_output.extend(yhat.tolist())\n",
        "        i=i+1\n",
        "    \n",
        "\n",
        "print(lst_output)"
      ],
      "metadata": {
        "colab": {
          "base_uri": "https://localhost:8080/"
        },
        "id": "9DXWz2ExLg7P",
        "outputId": "c2186b26-2507-4f94-97ce-9f8dc368f6fd"
      },
      "execution_count": 55,
      "outputs": [
        {
          "output_type": "stream",
          "name": "stdout",
          "text": [
            "[0.46452853]\n",
            "76\n",
            "1 day input [0.69386485 0.74707859 0.71932397 0.75834725 0.74561768 0.76940731\n",
            " 0.84265427 0.82867268 0.78505839 0.70283799 0.78004994 0.76439886\n",
            " 0.7936144  0.83034217 0.83931561 0.79298838 0.75563429 0.76940731\n",
            " 0.77399833 0.76690324 0.8053005  0.79674449 0.79904    0.77984136\n",
            " 0.77879789 0.76857273 0.77399833 0.83722867 0.84161112 0.88376447\n",
            " 0.86435728 0.78443239 0.79152746 0.82262105 0.85434069 0.85246231\n",
            " 0.82616861 0.80905659 0.83117706 0.9255007  0.89858098 0.91277115\n",
            " 0.93656077 0.95012523 1.         0.96702836 0.94532565 0.83889816\n",
            " 0.85100171 0.82116014 0.8401502  0.83514173 0.77817189 0.71306347\n",
            " 0.72328866 0.77378976 0.79424042 0.79611847 0.76377283 0.69156936\n",
            " 0.71076798 0.68301335 0.70701155 0.63376458 0.6748748  0.6934474\n",
            " 0.72036712 0.71222858 0.71035053 0.68322192 0.67070124 0.73017517\n",
            " 0.75271276 0.78839737 0.46452853]\n",
            "1 day output [[0.46844587]]\n",
            "2 day input [0.74707859 0.71932397 0.75834725 0.74561768 0.76940731 0.84265427\n",
            " 0.82867268 0.78505839 0.70283799 0.78004994 0.76439886 0.7936144\n",
            " 0.83034217 0.83931561 0.79298838 0.75563429 0.76940731 0.77399833\n",
            " 0.76690324 0.8053005  0.79674449 0.79904    0.77984136 0.77879789\n",
            " 0.76857273 0.77399833 0.83722867 0.84161112 0.88376447 0.86435728\n",
            " 0.78443239 0.79152746 0.82262105 0.85434069 0.85246231 0.82616861\n",
            " 0.80905659 0.83117706 0.9255007  0.89858098 0.91277115 0.93656077\n",
            " 0.95012523 1.         0.96702836 0.94532565 0.83889816 0.85100171\n",
            " 0.82116014 0.8401502  0.83514173 0.77817189 0.71306347 0.72328866\n",
            " 0.77378976 0.79424042 0.79611847 0.76377283 0.69156936 0.71076798\n",
            " 0.68301335 0.70701155 0.63376458 0.6748748  0.6934474  0.72036712\n",
            " 0.71222858 0.71035053 0.68322192 0.67070124 0.73017517 0.75271276\n",
            " 0.78839737 0.46452853 0.46844587]\n",
            "2 day output [[0.46361443]]\n",
            "3 day input [0.71932397 0.75834725 0.74561768 0.76940731 0.84265427 0.82867268\n",
            " 0.78505839 0.70283799 0.78004994 0.76439886 0.7936144  0.83034217\n",
            " 0.83931561 0.79298838 0.75563429 0.76940731 0.77399833 0.76690324\n",
            " 0.8053005  0.79674449 0.79904    0.77984136 0.77879789 0.76857273\n",
            " 0.77399833 0.83722867 0.84161112 0.88376447 0.86435728 0.78443239\n",
            " 0.79152746 0.82262105 0.85434069 0.85246231 0.82616861 0.80905659\n",
            " 0.83117706 0.9255007  0.89858098 0.91277115 0.93656077 0.95012523\n",
            " 1.         0.96702836 0.94532565 0.83889816 0.85100171 0.82116014\n",
            " 0.8401502  0.83514173 0.77817189 0.71306347 0.72328866 0.77378976\n",
            " 0.79424042 0.79611847 0.76377283 0.69156936 0.71076798 0.68301335\n",
            " 0.70701155 0.63376458 0.6748748  0.6934474  0.72036712 0.71222858\n",
            " 0.71035053 0.68322192 0.67070124 0.73017517 0.75271276 0.78839737\n",
            " 0.46452853 0.46844587 0.46361443]\n",
            "3 day output [[0.45064846]]\n",
            "4 day input [0.75834725 0.74561768 0.76940731 0.84265427 0.82867268 0.78505839\n",
            " 0.70283799 0.78004994 0.76439886 0.7936144  0.83034217 0.83931561\n",
            " 0.79298838 0.75563429 0.76940731 0.77399833 0.76690324 0.8053005\n",
            " 0.79674449 0.79904    0.77984136 0.77879789 0.76857273 0.77399833\n",
            " 0.83722867 0.84161112 0.88376447 0.86435728 0.78443239 0.79152746\n",
            " 0.82262105 0.85434069 0.85246231 0.82616861 0.80905659 0.83117706\n",
            " 0.9255007  0.89858098 0.91277115 0.93656077 0.95012523 1.\n",
            " 0.96702836 0.94532565 0.83889816 0.85100171 0.82116014 0.8401502\n",
            " 0.83514173 0.77817189 0.71306347 0.72328866 0.77378976 0.79424042\n",
            " 0.79611847 0.76377283 0.69156936 0.71076798 0.68301335 0.70701155\n",
            " 0.63376458 0.6748748  0.6934474  0.72036712 0.71222858 0.71035053\n",
            " 0.68322192 0.67070124 0.73017517 0.75271276 0.78839737 0.46452853\n",
            " 0.46844587 0.46361443 0.45064846]\n",
            "4 day output [[0.43125916]]\n",
            "5 day input [0.74561768 0.76940731 0.84265427 0.82867268 0.78505839 0.70283799\n",
            " 0.78004994 0.76439886 0.7936144  0.83034217 0.83931561 0.79298838\n",
            " 0.75563429 0.76940731 0.77399833 0.76690324 0.8053005  0.79674449\n",
            " 0.79904    0.77984136 0.77879789 0.76857273 0.77399833 0.83722867\n",
            " 0.84161112 0.88376447 0.86435728 0.78443239 0.79152746 0.82262105\n",
            " 0.85434069 0.85246231 0.82616861 0.80905659 0.83117706 0.9255007\n",
            " 0.89858098 0.91277115 0.93656077 0.95012523 1.         0.96702836\n",
            " 0.94532565 0.83889816 0.85100171 0.82116014 0.8401502  0.83514173\n",
            " 0.77817189 0.71306347 0.72328866 0.77378976 0.79424042 0.79611847\n",
            " 0.76377283 0.69156936 0.71076798 0.68301335 0.70701155 0.63376458\n",
            " 0.6748748  0.6934474  0.72036712 0.71222858 0.71035053 0.68322192\n",
            " 0.67070124 0.73017517 0.75271276 0.78839737 0.46452853 0.46844587\n",
            " 0.46361443 0.45064846 0.43125916]\n",
            "5 day output [[0.40750057]]\n",
            "6 day input [0.76940731 0.84265427 0.82867268 0.78505839 0.70283799 0.78004994\n",
            " 0.76439886 0.7936144  0.83034217 0.83931561 0.79298838 0.75563429\n",
            " 0.76940731 0.77399833 0.76690324 0.8053005  0.79674449 0.79904\n",
            " 0.77984136 0.77879789 0.76857273 0.77399833 0.83722867 0.84161112\n",
            " 0.88376447 0.86435728 0.78443239 0.79152746 0.82262105 0.85434069\n",
            " 0.85246231 0.82616861 0.80905659 0.83117706 0.9255007  0.89858098\n",
            " 0.91277115 0.93656077 0.95012523 1.         0.96702836 0.94532565\n",
            " 0.83889816 0.85100171 0.82116014 0.8401502  0.83514173 0.77817189\n",
            " 0.71306347 0.72328866 0.77378976 0.79424042 0.79611847 0.76377283\n",
            " 0.69156936 0.71076798 0.68301335 0.70701155 0.63376458 0.6748748\n",
            " 0.6934474  0.72036712 0.71222858 0.71035053 0.68322192 0.67070124\n",
            " 0.73017517 0.75271276 0.78839737 0.46452853 0.46844587 0.46361443\n",
            " 0.45064846 0.43125916 0.40750057]\n",
            "6 day output [[0.38133278]]\n",
            "7 day input [0.84265427 0.82867268 0.78505839 0.70283799 0.78004994 0.76439886\n",
            " 0.7936144  0.83034217 0.83931561 0.79298838 0.75563429 0.76940731\n",
            " 0.77399833 0.76690324 0.8053005  0.79674449 0.79904    0.77984136\n",
            " 0.77879789 0.76857273 0.77399833 0.83722867 0.84161112 0.88376447\n",
            " 0.86435728 0.78443239 0.79152746 0.82262105 0.85434069 0.85246231\n",
            " 0.82616861 0.80905659 0.83117706 0.9255007  0.89858098 0.91277115\n",
            " 0.93656077 0.95012523 1.         0.96702836 0.94532565 0.83889816\n",
            " 0.85100171 0.82116014 0.8401502  0.83514173 0.77817189 0.71306347\n",
            " 0.72328866 0.77378976 0.79424042 0.79611847 0.76377283 0.69156936\n",
            " 0.71076798 0.68301335 0.70701155 0.63376458 0.6748748  0.6934474\n",
            " 0.72036712 0.71222858 0.71035053 0.68322192 0.67070124 0.73017517\n",
            " 0.75271276 0.78839737 0.46452853 0.46844587 0.46361443 0.45064846\n",
            " 0.43125916 0.40750057 0.38133278]\n",
            "7 day output [[0.35441175]]\n",
            "8 day input [0.82867268 0.78505839 0.70283799 0.78004994 0.76439886 0.7936144\n",
            " 0.83034217 0.83931561 0.79298838 0.75563429 0.76940731 0.77399833\n",
            " 0.76690324 0.8053005  0.79674449 0.79904    0.77984136 0.77879789\n",
            " 0.76857273 0.77399833 0.83722867 0.84161112 0.88376447 0.86435728\n",
            " 0.78443239 0.79152746 0.82262105 0.85434069 0.85246231 0.82616861\n",
            " 0.80905659 0.83117706 0.9255007  0.89858098 0.91277115 0.93656077\n",
            " 0.95012523 1.         0.96702836 0.94532565 0.83889816 0.85100171\n",
            " 0.82116014 0.8401502  0.83514173 0.77817189 0.71306347 0.72328866\n",
            " 0.77378976 0.79424042 0.79611847 0.76377283 0.69156936 0.71076798\n",
            " 0.68301335 0.70701155 0.63376458 0.6748748  0.6934474  0.72036712\n",
            " 0.71222858 0.71035053 0.68322192 0.67070124 0.73017517 0.75271276\n",
            " 0.78839737 0.46452853 0.46844587 0.46361443 0.45064846 0.43125916\n",
            " 0.40750057 0.38133278 0.35441175]\n",
            "8 day output [[0.32802856]]\n",
            "9 day input [0.78505839 0.70283799 0.78004994 0.76439886 0.7936144  0.83034217\n",
            " 0.83931561 0.79298838 0.75563429 0.76940731 0.77399833 0.76690324\n",
            " 0.8053005  0.79674449 0.79904    0.77984136 0.77879789 0.76857273\n",
            " 0.77399833 0.83722867 0.84161112 0.88376447 0.86435728 0.78443239\n",
            " 0.79152746 0.82262105 0.85434069 0.85246231 0.82616861 0.80905659\n",
            " 0.83117706 0.9255007  0.89858098 0.91277115 0.93656077 0.95012523\n",
            " 1.         0.96702836 0.94532565 0.83889816 0.85100171 0.82116014\n",
            " 0.8401502  0.83514173 0.77817189 0.71306347 0.72328866 0.77378976\n",
            " 0.79424042 0.79611847 0.76377283 0.69156936 0.71076798 0.68301335\n",
            " 0.70701155 0.63376458 0.6748748  0.6934474  0.72036712 0.71222858\n",
            " 0.71035053 0.68322192 0.67070124 0.73017517 0.75271276 0.78839737\n",
            " 0.46452853 0.46844587 0.46361443 0.45064846 0.43125916 0.40750057\n",
            " 0.38133278 0.35441175 0.32802856]\n",
            "9 day output [[0.3031282]]\n",
            "10 day input [0.70283799 0.78004994 0.76439886 0.7936144  0.83034217 0.83931561\n",
            " 0.79298838 0.75563429 0.76940731 0.77399833 0.76690324 0.8053005\n",
            " 0.79674449 0.79904    0.77984136 0.77879789 0.76857273 0.77399833\n",
            " 0.83722867 0.84161112 0.88376447 0.86435728 0.78443239 0.79152746\n",
            " 0.82262105 0.85434069 0.85246231 0.82616861 0.80905659 0.83117706\n",
            " 0.9255007  0.89858098 0.91277115 0.93656077 0.95012523 1.\n",
            " 0.96702836 0.94532565 0.83889816 0.85100171 0.82116014 0.8401502\n",
            " 0.83514173 0.77817189 0.71306347 0.72328866 0.77378976 0.79424042\n",
            " 0.79611847 0.76377283 0.69156936 0.71076798 0.68301335 0.70701155\n",
            " 0.63376458 0.6748748  0.6934474  0.72036712 0.71222858 0.71035053\n",
            " 0.68322192 0.67070124 0.73017517 0.75271276 0.78839737 0.46452853\n",
            " 0.46844587 0.46361443 0.45064846 0.43125916 0.40750057 0.38133278\n",
            " 0.35441175 0.32802856 0.30312821]\n",
            "10 day output [[0.28036365]]\n",
            "11 day input [0.78004994 0.76439886 0.7936144  0.83034217 0.83931561 0.79298838\n",
            " 0.75563429 0.76940731 0.77399833 0.76690324 0.8053005  0.79674449\n",
            " 0.79904    0.77984136 0.77879789 0.76857273 0.77399833 0.83722867\n",
            " 0.84161112 0.88376447 0.86435728 0.78443239 0.79152746 0.82262105\n",
            " 0.85434069 0.85246231 0.82616861 0.80905659 0.83117706 0.9255007\n",
            " 0.89858098 0.91277115 0.93656077 0.95012523 1.         0.96702836\n",
            " 0.94532565 0.83889816 0.85100171 0.82116014 0.8401502  0.83514173\n",
            " 0.77817189 0.71306347 0.72328866 0.77378976 0.79424042 0.79611847\n",
            " 0.76377283 0.69156936 0.71076798 0.68301335 0.70701155 0.63376458\n",
            " 0.6748748  0.6934474  0.72036712 0.71222858 0.71035053 0.68322192\n",
            " 0.67070124 0.73017517 0.75271276 0.78839737 0.46452853 0.46844587\n",
            " 0.46361443 0.45064846 0.43125916 0.40750057 0.38133278 0.35441175\n",
            " 0.32802856 0.30312821 0.28036365]\n",
            "11 day output [[0.26015952]]\n",
            "12 day input [0.76439886 0.7936144  0.83034217 0.83931561 0.79298838 0.75563429\n",
            " 0.76940731 0.77399833 0.76690324 0.8053005  0.79674449 0.79904\n",
            " 0.77984136 0.77879789 0.76857273 0.77399833 0.83722867 0.84161112\n",
            " 0.88376447 0.86435728 0.78443239 0.79152746 0.82262105 0.85434069\n",
            " 0.85246231 0.82616861 0.80905659 0.83117706 0.9255007  0.89858098\n",
            " 0.91277115 0.93656077 0.95012523 1.         0.96702836 0.94532565\n",
            " 0.83889816 0.85100171 0.82116014 0.8401502  0.83514173 0.77817189\n",
            " 0.71306347 0.72328866 0.77378976 0.79424042 0.79611847 0.76377283\n",
            " 0.69156936 0.71076798 0.68301335 0.70701155 0.63376458 0.6748748\n",
            " 0.6934474  0.72036712 0.71222858 0.71035053 0.68322192 0.67070124\n",
            " 0.73017517 0.75271276 0.78839737 0.46452853 0.46844587 0.46361443\n",
            " 0.45064846 0.43125916 0.40750057 0.38133278 0.35441175 0.32802856\n",
            " 0.30312821 0.28036365 0.26015952]\n",
            "12 day output [[0.24276772]]\n",
            "13 day input [0.7936144  0.83034217 0.83931561 0.79298838 0.75563429 0.76940731\n",
            " 0.77399833 0.76690324 0.8053005  0.79674449 0.79904    0.77984136\n",
            " 0.77879789 0.76857273 0.77399833 0.83722867 0.84161112 0.88376447\n",
            " 0.86435728 0.78443239 0.79152746 0.82262105 0.85434069 0.85246231\n",
            " 0.82616861 0.80905659 0.83117706 0.9255007  0.89858098 0.91277115\n",
            " 0.93656077 0.95012523 1.         0.96702836 0.94532565 0.83889816\n",
            " 0.85100171 0.82116014 0.8401502  0.83514173 0.77817189 0.71306347\n",
            " 0.72328866 0.77378976 0.79424042 0.79611847 0.76377283 0.69156936\n",
            " 0.71076798 0.68301335 0.70701155 0.63376458 0.6748748  0.6934474\n",
            " 0.72036712 0.71222858 0.71035053 0.68322192 0.67070124 0.73017517\n",
            " 0.75271276 0.78839737 0.46452853 0.46844587 0.46361443 0.45064846\n",
            " 0.43125916 0.40750057 0.38133278 0.35441175 0.32802856 0.30312821\n",
            " 0.28036365 0.26015952 0.24276772]\n",
            "13 day output [[0.22831453]]\n",
            "14 day input [0.83034217 0.83931561 0.79298838 0.75563429 0.76940731 0.77399833\n",
            " 0.76690324 0.8053005  0.79674449 0.79904    0.77984136 0.77879789\n",
            " 0.76857273 0.77399833 0.83722867 0.84161112 0.88376447 0.86435728\n",
            " 0.78443239 0.79152746 0.82262105 0.85434069 0.85246231 0.82616861\n",
            " 0.80905659 0.83117706 0.9255007  0.89858098 0.91277115 0.93656077\n",
            " 0.95012523 1.         0.96702836 0.94532565 0.83889816 0.85100171\n",
            " 0.82116014 0.8401502  0.83514173 0.77817189 0.71306347 0.72328866\n",
            " 0.77378976 0.79424042 0.79611847 0.76377283 0.69156936 0.71076798\n",
            " 0.68301335 0.70701155 0.63376458 0.6748748  0.6934474  0.72036712\n",
            " 0.71222858 0.71035053 0.68322192 0.67070124 0.73017517 0.75271276\n",
            " 0.78839737 0.46452853 0.46844587 0.46361443 0.45064846 0.43125916\n",
            " 0.40750057 0.38133278 0.35441175 0.32802856 0.30312821 0.28036365\n",
            " 0.26015952 0.24276772 0.22831453]\n",
            "14 day output [[0.21683292]]\n",
            "15 day input [0.83931561 0.79298838 0.75563429 0.76940731 0.77399833 0.76690324\n",
            " 0.8053005  0.79674449 0.79904    0.77984136 0.77879789 0.76857273\n",
            " 0.77399833 0.83722867 0.84161112 0.88376447 0.86435728 0.78443239\n",
            " 0.79152746 0.82262105 0.85434069 0.85246231 0.82616861 0.80905659\n",
            " 0.83117706 0.9255007  0.89858098 0.91277115 0.93656077 0.95012523\n",
            " 1.         0.96702836 0.94532565 0.83889816 0.85100171 0.82116014\n",
            " 0.8401502  0.83514173 0.77817189 0.71306347 0.72328866 0.77378976\n",
            " 0.79424042 0.79611847 0.76377283 0.69156936 0.71076798 0.68301335\n",
            " 0.70701155 0.63376458 0.6748748  0.6934474  0.72036712 0.71222858\n",
            " 0.71035053 0.68322192 0.67070124 0.73017517 0.75271276 0.78839737\n",
            " 0.46452853 0.46844587 0.46361443 0.45064846 0.43125916 0.40750057\n",
            " 0.38133278 0.35441175 0.32802856 0.30312821 0.28036365 0.26015952\n",
            " 0.24276772 0.22831453 0.21683292]\n",
            "15 day output [[0.20828737]]\n",
            "16 day input [0.79298838 0.75563429 0.76940731 0.77399833 0.76690324 0.8053005\n",
            " 0.79674449 0.79904    0.77984136 0.77879789 0.76857273 0.77399833\n",
            " 0.83722867 0.84161112 0.88376447 0.86435728 0.78443239 0.79152746\n",
            " 0.82262105 0.85434069 0.85246231 0.82616861 0.80905659 0.83117706\n",
            " 0.9255007  0.89858098 0.91277115 0.93656077 0.95012523 1.\n",
            " 0.96702836 0.94532565 0.83889816 0.85100171 0.82116014 0.8401502\n",
            " 0.83514173 0.77817189 0.71306347 0.72328866 0.77378976 0.79424042\n",
            " 0.79611847 0.76377283 0.69156936 0.71076798 0.68301335 0.70701155\n",
            " 0.63376458 0.6748748  0.6934474  0.72036712 0.71222858 0.71035053\n",
            " 0.68322192 0.67070124 0.73017517 0.75271276 0.78839737 0.46452853\n",
            " 0.46844587 0.46361443 0.45064846 0.43125916 0.40750057 0.38133278\n",
            " 0.35441175 0.32802856 0.30312821 0.28036365 0.26015952 0.24276772\n",
            " 0.22831453 0.21683292 0.20828737]\n",
            "16 day output [[0.20259099]]\n",
            "17 day input [0.75563429 0.76940731 0.77399833 0.76690324 0.8053005  0.79674449\n",
            " 0.79904    0.77984136 0.77879789 0.76857273 0.77399833 0.83722867\n",
            " 0.84161112 0.88376447 0.86435728 0.78443239 0.79152746 0.82262105\n",
            " 0.85434069 0.85246231 0.82616861 0.80905659 0.83117706 0.9255007\n",
            " 0.89858098 0.91277115 0.93656077 0.95012523 1.         0.96702836\n",
            " 0.94532565 0.83889816 0.85100171 0.82116014 0.8401502  0.83514173\n",
            " 0.77817189 0.71306347 0.72328866 0.77378976 0.79424042 0.79611847\n",
            " 0.76377283 0.69156936 0.71076798 0.68301335 0.70701155 0.63376458\n",
            " 0.6748748  0.6934474  0.72036712 0.71222858 0.71035053 0.68322192\n",
            " 0.67070124 0.73017517 0.75271276 0.78839737 0.46452853 0.46844587\n",
            " 0.46361443 0.45064846 0.43125916 0.40750057 0.38133278 0.35441175\n",
            " 0.32802856 0.30312821 0.28036365 0.26015952 0.24276772 0.22831453\n",
            " 0.21683292 0.20828737 0.20259099]\n",
            "17 day output [[0.19961815]]\n",
            "18 day input [0.76940731 0.77399833 0.76690324 0.8053005  0.79674449 0.79904\n",
            " 0.77984136 0.77879789 0.76857273 0.77399833 0.83722867 0.84161112\n",
            " 0.88376447 0.86435728 0.78443239 0.79152746 0.82262105 0.85434069\n",
            " 0.85246231 0.82616861 0.80905659 0.83117706 0.9255007  0.89858098\n",
            " 0.91277115 0.93656077 0.95012523 1.         0.96702836 0.94532565\n",
            " 0.83889816 0.85100171 0.82116014 0.8401502  0.83514173 0.77817189\n",
            " 0.71306347 0.72328866 0.77378976 0.79424042 0.79611847 0.76377283\n",
            " 0.69156936 0.71076798 0.68301335 0.70701155 0.63376458 0.6748748\n",
            " 0.6934474  0.72036712 0.71222858 0.71035053 0.68322192 0.67070124\n",
            " 0.73017517 0.75271276 0.78839737 0.46452853 0.46844587 0.46361443\n",
            " 0.45064846 0.43125916 0.40750057 0.38133278 0.35441175 0.32802856\n",
            " 0.30312821 0.28036365 0.26015952 0.24276772 0.22831453 0.21683292\n",
            " 0.20828737 0.20259099 0.19961815]\n",
            "18 day output [[0.19921485]]\n",
            "19 day input [0.77399833 0.76690324 0.8053005  0.79674449 0.79904    0.77984136\n",
            " 0.77879789 0.76857273 0.77399833 0.83722867 0.84161112 0.88376447\n",
            " 0.86435728 0.78443239 0.79152746 0.82262105 0.85434069 0.85246231\n",
            " 0.82616861 0.80905659 0.83117706 0.9255007  0.89858098 0.91277115\n",
            " 0.93656077 0.95012523 1.         0.96702836 0.94532565 0.83889816\n",
            " 0.85100171 0.82116014 0.8401502  0.83514173 0.77817189 0.71306347\n",
            " 0.72328866 0.77378976 0.79424042 0.79611847 0.76377283 0.69156936\n",
            " 0.71076798 0.68301335 0.70701155 0.63376458 0.6748748  0.6934474\n",
            " 0.72036712 0.71222858 0.71035053 0.68322192 0.67070124 0.73017517\n",
            " 0.75271276 0.78839737 0.46452853 0.46844587 0.46361443 0.45064846\n",
            " 0.43125916 0.40750057 0.38133278 0.35441175 0.32802856 0.30312821\n",
            " 0.28036365 0.26015952 0.24276772 0.22831453 0.21683292 0.20828737\n",
            " 0.20259099 0.19961815 0.19921485]\n",
            "19 day output [[0.20120619]]\n",
            "20 day input [0.76690324 0.8053005  0.79674449 0.79904    0.77984136 0.77879789\n",
            " 0.76857273 0.77399833 0.83722867 0.84161112 0.88376447 0.86435728\n",
            " 0.78443239 0.79152746 0.82262105 0.85434069 0.85246231 0.82616861\n",
            " 0.80905659 0.83117706 0.9255007  0.89858098 0.91277115 0.93656077\n",
            " 0.95012523 1.         0.96702836 0.94532565 0.83889816 0.85100171\n",
            " 0.82116014 0.8401502  0.83514173 0.77817189 0.71306347 0.72328866\n",
            " 0.77378976 0.79424042 0.79611847 0.76377283 0.69156936 0.71076798\n",
            " 0.68301335 0.70701155 0.63376458 0.6748748  0.6934474  0.72036712\n",
            " 0.71222858 0.71035053 0.68322192 0.67070124 0.73017517 0.75271276\n",
            " 0.78839737 0.46452853 0.46844587 0.46361443 0.45064846 0.43125916\n",
            " 0.40750057 0.38133278 0.35441175 0.32802856 0.30312821 0.28036365\n",
            " 0.26015952 0.24276772 0.22831453 0.21683292 0.20828737 0.20259099\n",
            " 0.19961815 0.19921485 0.20120619]\n",
            "20 day output [[0.20540446]]\n",
            "21 day input [0.8053005  0.79674449 0.79904    0.77984136 0.77879789 0.76857273\n",
            " 0.77399833 0.83722867 0.84161112 0.88376447 0.86435728 0.78443239\n",
            " 0.79152746 0.82262105 0.85434069 0.85246231 0.82616861 0.80905659\n",
            " 0.83117706 0.9255007  0.89858098 0.91277115 0.93656077 0.95012523\n",
            " 1.         0.96702836 0.94532565 0.83889816 0.85100171 0.82116014\n",
            " 0.8401502  0.83514173 0.77817189 0.71306347 0.72328866 0.77378976\n",
            " 0.79424042 0.79611847 0.76377283 0.69156936 0.71076798 0.68301335\n",
            " 0.70701155 0.63376458 0.6748748  0.6934474  0.72036712 0.71222858\n",
            " 0.71035053 0.68322192 0.67070124 0.73017517 0.75271276 0.78839737\n",
            " 0.46452853 0.46844587 0.46361443 0.45064846 0.43125916 0.40750057\n",
            " 0.38133278 0.35441175 0.32802856 0.30312821 0.28036365 0.26015952\n",
            " 0.24276772 0.22831453 0.21683292 0.20828737 0.20259099 0.19961815\n",
            " 0.19921485 0.20120619 0.20540446]\n",
            "21 day output [[0.2116142]]\n",
            "22 day input [0.79674449 0.79904    0.77984136 0.77879789 0.76857273 0.77399833\n",
            " 0.83722867 0.84161112 0.88376447 0.86435728 0.78443239 0.79152746\n",
            " 0.82262105 0.85434069 0.85246231 0.82616861 0.80905659 0.83117706\n",
            " 0.9255007  0.89858098 0.91277115 0.93656077 0.95012523 1.\n",
            " 0.96702836 0.94532565 0.83889816 0.85100171 0.82116014 0.8401502\n",
            " 0.83514173 0.77817189 0.71306347 0.72328866 0.77378976 0.79424042\n",
            " 0.79611847 0.76377283 0.69156936 0.71076798 0.68301335 0.70701155\n",
            " 0.63376458 0.6748748  0.6934474  0.72036712 0.71222858 0.71035053\n",
            " 0.68322192 0.67070124 0.73017517 0.75271276 0.78839737 0.46452853\n",
            " 0.46844587 0.46361443 0.45064846 0.43125916 0.40750057 0.38133278\n",
            " 0.35441175 0.32802856 0.30312821 0.28036365 0.26015952 0.24276772\n",
            " 0.22831453 0.21683292 0.20828737 0.20259099 0.19961815 0.19921485\n",
            " 0.20120619 0.20540446 0.21161421]\n",
            "22 day output [[0.21963733]]\n",
            "23 day input [0.79904    0.77984136 0.77879789 0.76857273 0.77399833 0.83722867\n",
            " 0.84161112 0.88376447 0.86435728 0.78443239 0.79152746 0.82262105\n",
            " 0.85434069 0.85246231 0.82616861 0.80905659 0.83117706 0.9255007\n",
            " 0.89858098 0.91277115 0.93656077 0.95012523 1.         0.96702836\n",
            " 0.94532565 0.83889816 0.85100171 0.82116014 0.8401502  0.83514173\n",
            " 0.77817189 0.71306347 0.72328866 0.77378976 0.79424042 0.79611847\n",
            " 0.76377283 0.69156936 0.71076798 0.68301335 0.70701155 0.63376458\n",
            " 0.6748748  0.6934474  0.72036712 0.71222858 0.71035053 0.68322192\n",
            " 0.67070124 0.73017517 0.75271276 0.78839737 0.46452853 0.46844587\n",
            " 0.46361443 0.45064846 0.43125916 0.40750057 0.38133278 0.35441175\n",
            " 0.32802856 0.30312821 0.28036365 0.26015952 0.24276772 0.22831453\n",
            " 0.21683292 0.20828737 0.20259099 0.19961815 0.19921485 0.20120619\n",
            " 0.20540446 0.21161421 0.21963733]\n",
            "23 day output [[0.2292766]]\n",
            "24 day input [0.77984136 0.77879789 0.76857273 0.77399833 0.83722867 0.84161112\n",
            " 0.88376447 0.86435728 0.78443239 0.79152746 0.82262105 0.85434069\n",
            " 0.85246231 0.82616861 0.80905659 0.83117706 0.9255007  0.89858098\n",
            " 0.91277115 0.93656077 0.95012523 1.         0.96702836 0.94532565\n",
            " 0.83889816 0.85100171 0.82116014 0.8401502  0.83514173 0.77817189\n",
            " 0.71306347 0.72328866 0.77378976 0.79424042 0.79611847 0.76377283\n",
            " 0.69156936 0.71076798 0.68301335 0.70701155 0.63376458 0.6748748\n",
            " 0.6934474  0.72036712 0.71222858 0.71035053 0.68322192 0.67070124\n",
            " 0.73017517 0.75271276 0.78839737 0.46452853 0.46844587 0.46361443\n",
            " 0.45064846 0.43125916 0.40750057 0.38133278 0.35441175 0.32802856\n",
            " 0.30312821 0.28036365 0.26015952 0.24276772 0.22831453 0.21683292\n",
            " 0.20828737 0.20259099 0.19961815 0.19921485 0.20120619 0.20540446\n",
            " 0.21161421 0.21963733 0.2292766 ]\n",
            "24 day output [[0.24033847]]\n",
            "25 day input [0.77879789 0.76857273 0.77399833 0.83722867 0.84161112 0.88376447\n",
            " 0.86435728 0.78443239 0.79152746 0.82262105 0.85434069 0.85246231\n",
            " 0.82616861 0.80905659 0.83117706 0.9255007  0.89858098 0.91277115\n",
            " 0.93656077 0.95012523 1.         0.96702836 0.94532565 0.83889816\n",
            " 0.85100171 0.82116014 0.8401502  0.83514173 0.77817189 0.71306347\n",
            " 0.72328866 0.77378976 0.79424042 0.79611847 0.76377283 0.69156936\n",
            " 0.71076798 0.68301335 0.70701155 0.63376458 0.6748748  0.6934474\n",
            " 0.72036712 0.71222858 0.71035053 0.68322192 0.67070124 0.73017517\n",
            " 0.75271276 0.78839737 0.46452853 0.46844587 0.46361443 0.45064846\n",
            " 0.43125916 0.40750057 0.38133278 0.35441175 0.32802856 0.30312821\n",
            " 0.28036365 0.26015952 0.24276772 0.22831453 0.21683292 0.20828737\n",
            " 0.20259099 0.19961815 0.19921485 0.20120619 0.20540446 0.21161421\n",
            " 0.21963733 0.2292766  0.24033847]\n",
            "25 day output [[0.25263432]]\n",
            "26 day input [0.76857273 0.77399833 0.83722867 0.84161112 0.88376447 0.86435728\n",
            " 0.78443239 0.79152746 0.82262105 0.85434069 0.85246231 0.82616861\n",
            " 0.80905659 0.83117706 0.9255007  0.89858098 0.91277115 0.93656077\n",
            " 0.95012523 1.         0.96702836 0.94532565 0.83889816 0.85100171\n",
            " 0.82116014 0.8401502  0.83514173 0.77817189 0.71306347 0.72328866\n",
            " 0.77378976 0.79424042 0.79611847 0.76377283 0.69156936 0.71076798\n",
            " 0.68301335 0.70701155 0.63376458 0.6748748  0.6934474  0.72036712\n",
            " 0.71222858 0.71035053 0.68322192 0.67070124 0.73017517 0.75271276\n",
            " 0.78839737 0.46452853 0.46844587 0.46361443 0.45064846 0.43125916\n",
            " 0.40750057 0.38133278 0.35441175 0.32802856 0.30312821 0.28036365\n",
            " 0.26015952 0.24276772 0.22831453 0.21683292 0.20828737 0.20259099\n",
            " 0.19961815 0.19921485 0.20120619 0.20540446 0.21161421 0.21963733\n",
            " 0.2292766  0.24033847 0.25263432]\n",
            "26 day output [[0.26598185]]\n",
            "27 day input [0.77399833 0.83722867 0.84161112 0.88376447 0.86435728 0.78443239\n",
            " 0.79152746 0.82262105 0.85434069 0.85246231 0.82616861 0.80905659\n",
            " 0.83117706 0.9255007  0.89858098 0.91277115 0.93656077 0.95012523\n",
            " 1.         0.96702836 0.94532565 0.83889816 0.85100171 0.82116014\n",
            " 0.8401502  0.83514173 0.77817189 0.71306347 0.72328866 0.77378976\n",
            " 0.79424042 0.79611847 0.76377283 0.69156936 0.71076798 0.68301335\n",
            " 0.70701155 0.63376458 0.6748748  0.6934474  0.72036712 0.71222858\n",
            " 0.71035053 0.68322192 0.67070124 0.73017517 0.75271276 0.78839737\n",
            " 0.46452853 0.46844587 0.46361443 0.45064846 0.43125916 0.40750057\n",
            " 0.38133278 0.35441175 0.32802856 0.30312821 0.28036365 0.26015952\n",
            " 0.24276772 0.22831453 0.21683292 0.20828737 0.20259099 0.19961815\n",
            " 0.19921485 0.20120619 0.20540446 0.21161421 0.21963733 0.2292766\n",
            " 0.24033847 0.25263432 0.26598185]\n",
            "27 day output [[0.28020483]]\n",
            "28 day input [0.83722867 0.84161112 0.88376447 0.86435728 0.78443239 0.79152746\n",
            " 0.82262105 0.85434069 0.85246231 0.82616861 0.80905659 0.83117706\n",
            " 0.9255007  0.89858098 0.91277115 0.93656077 0.95012523 1.\n",
            " 0.96702836 0.94532565 0.83889816 0.85100171 0.82116014 0.8401502\n",
            " 0.83514173 0.77817189 0.71306347 0.72328866 0.77378976 0.79424042\n",
            " 0.79611847 0.76377283 0.69156936 0.71076798 0.68301335 0.70701155\n",
            " 0.63376458 0.6748748  0.6934474  0.72036712 0.71222858 0.71035053\n",
            " 0.68322192 0.67070124 0.73017517 0.75271276 0.78839737 0.46452853\n",
            " 0.46844587 0.46361443 0.45064846 0.43125916 0.40750057 0.38133278\n",
            " 0.35441175 0.32802856 0.30312821 0.28036365 0.26015952 0.24276772\n",
            " 0.22831453 0.21683292 0.20828737 0.20259099 0.19961815 0.19921485\n",
            " 0.20120619 0.20540446 0.21161421 0.21963733 0.2292766  0.24033847\n",
            " 0.25263432 0.26598185 0.28020483]\n",
            "28 day output [[0.29513338]]\n",
            "29 day input [0.84161112 0.88376447 0.86435728 0.78443239 0.79152746 0.82262105\n",
            " 0.85434069 0.85246231 0.82616861 0.80905659 0.83117706 0.9255007\n",
            " 0.89858098 0.91277115 0.93656077 0.95012523 1.         0.96702836\n",
            " 0.94532565 0.83889816 0.85100171 0.82116014 0.8401502  0.83514173\n",
            " 0.77817189 0.71306347 0.72328866 0.77378976 0.79424042 0.79611847\n",
            " 0.76377283 0.69156936 0.71076798 0.68301335 0.70701155 0.63376458\n",
            " 0.6748748  0.6934474  0.72036712 0.71222858 0.71035053 0.68322192\n",
            " 0.67070124 0.73017517 0.75271276 0.78839737 0.46452853 0.46844587\n",
            " 0.46361443 0.45064846 0.43125916 0.40750057 0.38133278 0.35441175\n",
            " 0.32802856 0.30312821 0.28036365 0.26015952 0.24276772 0.22831453\n",
            " 0.21683292 0.20828737 0.20259099 0.19961815 0.19921485 0.20120619\n",
            " 0.20540446 0.21161421 0.21963733 0.2292766  0.24033847 0.25263432\n",
            " 0.26598185 0.28020483 0.29513338]\n",
            "29 day output [[0.31060293]]\n",
            "[[0.46452853083610535], [0.46844586730003357], [0.46361443400382996], [0.4506484568119049], [0.4312591552734375], [0.40750056505203247], [0.38133278489112854], [0.3544117510318756], [0.3280285596847534], [0.3031282126903534], [0.28036364912986755], [0.26015952229499817], [0.24276772141456604], [0.22831453382968903], [0.21683292090892792], [0.20828737318515778], [0.20259098708629608], [0.1996181458234787], [0.1992148458957672], [0.20120619237422943], [0.20540446043014526], [0.2116142064332962], [0.21963733434677124], [0.2292765974998474], [0.24033847451210022], [0.25263431668281555], [0.26598185300827026], [0.2802048325538635], [0.2951333820819855], [0.31060293316841125]]\n"
          ]
        }
      ]
    },
    {
      "cell_type": "code",
      "source": [
        "day_new=np.arange(1,76)\n",
        "day_pred=np.arange(76,106) # 76+30 to pridict future 30 days"
      ],
      "metadata": {
        "id": "L0VdW9K4LzKb"
      },
      "execution_count": 58,
      "outputs": []
    },
    {
      "cell_type": "code",
      "source": [
        "import matplotlib.pyplot as plt"
      ],
      "metadata": {
        "id": "lSwDAXpRL339"
      },
      "execution_count": 59,
      "outputs": []
    },
    {
      "cell_type": "code",
      "source": [
        "len(df1)"
      ],
      "metadata": {
        "colab": {
          "base_uri": "https://localhost:8080/"
        },
        "id": "hWmWBZZP9UgP",
        "outputId": "00228002-fda4-4aaf-cc7f-9852a219e124"
      },
      "execution_count": 64,
      "outputs": [
        {
          "output_type": "execute_result",
          "data": {
            "text/plain": [
              "252"
            ]
          },
          "metadata": {},
          "execution_count": 64
        }
      ]
    },
    {
      "cell_type": "code",
      "source": [
        "252-75"
      ],
      "metadata": {
        "colab": {
          "base_uri": "https://localhost:8080/"
        },
        "id": "xeBCh6Af-Bgd",
        "outputId": "1409ace4-1a46-4fe1-afaf-345ee38bd9bd"
      },
      "execution_count": 67,
      "outputs": [
        {
          "output_type": "execute_result",
          "data": {
            "text/plain": [
              "177"
            ]
          },
          "metadata": {},
          "execution_count": 67
        }
      ]
    },
    {
      "cell_type": "markdown",
      "source": [
        "# Note: \n",
        "Length of df1 is 252, we took 75 days data."
      ],
      "metadata": {
        "id": "PfvhOHHk-VoN"
      }
    },
    {
      "cell_type": "code",
      "source": [
        "plt.plot(day_new,scaler.inverse_transform(df1[177:]))# Previous data\n",
        "plt.plot(day_pred,scaler.inverse_transform(lst_output)) # Predicted data"
      ],
      "metadata": {
        "id": "bXRaD3zcL7wr",
        "outputId": "692424a1-a31e-44ca-eb9a-8e0e13bbd9ea",
        "colab": {
          "base_uri": "https://localhost:8080/",
          "height": 283
        }
      },
      "execution_count": 70,
      "outputs": [
        {
          "output_type": "execute_result",
          "data": {
            "text/plain": [
              "[<matplotlib.lines.Line2D at 0x7f13467b7d10>]"
            ]
          },
          "metadata": {},
          "execution_count": 70
        },
        {
          "output_type": "display_data",
          "data": {
            "text/plain": [
              "<Figure size 432x288 with 1 Axes>"
            ],
            "image/png": "[encoded data removed]"
          },
          "metadata": {
            "needs_background": "light"
          }
        }
      ]
    }
  ]
}