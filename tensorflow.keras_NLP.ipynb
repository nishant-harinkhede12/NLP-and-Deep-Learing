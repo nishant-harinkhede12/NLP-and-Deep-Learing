{
  "nbformat": 4,
  "nbformat_minor": 0,
  "metadata": {
    "colab": {
      "name": "Untitled46.ipynb",
      "provenance": []
    },
    "kernelspec": {
      "name": "python3",
      "display_name": "Python 3"
    },
    "language_info": {
      "name": "python"
    }
  },
  "cells": [
    {
      "cell_type": "code",
      "execution_count": 1,
      "metadata": {
        "colab": {
          "base_uri": "https://localhost:8080/",
          "height": 423
        },
        "id": "ry6N6jjEIAO4",
        "outputId": "4f2b36be-263c-4110-b735-db0bbb301436"
      },
      "outputs": [
        {
          "output_type": "execute_result",
          "data": {
            "text/html": [
              "\n",
              "  <div id=\"df-53cc850f-4a45-4aec-96b6-aeaf750ae34d\">\n",
              "    <div class=\"colab-df-container\">\n",
              "      <div>\n",
              "<style scoped>\n",
              "    .dataframe tbody tr th:only-of-type {\n",
              "        vertical-align: middle;\n",
              "    }\n",
              "\n",
              "    .dataframe tbody tr th {\n",
              "        vertical-align: top;\n",
              "    }\n",
              "\n",
              "    .dataframe thead th {\n",
              "        text-align: right;\n",
              "    }\n",
              "</style>\n",
              "<table border=\"1\" class=\"dataframe\">\n",
              "  <thead>\n",
              "    <tr style=\"text-align: right;\">\n",
              "      <th></th>\n",
              "      <th>id</th>\n",
              "      <th>title</th>\n",
              "      <th>author</th>\n",
              "      <th>text</th>\n",
              "      <th>label</th>\n",
              "    </tr>\n",
              "  </thead>\n",
              "  <tbody>\n",
              "    <tr>\n",
              "      <th>0</th>\n",
              "      <td>0</td>\n",
              "      <td>House Dem Aide: We Didn’t Even See Comey’s Let...</td>\n",
              "      <td>Darrell Lucus</td>\n",
              "      <td>House Dem Aide: We Didn’t Even See Comey’s Let...</td>\n",
              "      <td>1</td>\n",
              "    </tr>\n",
              "    <tr>\n",
              "      <th>1</th>\n",
              "      <td>1</td>\n",
              "      <td>FLYNN: Hillary Clinton, Big Woman on Campus - ...</td>\n",
              "      <td>Daniel J. Flynn</td>\n",
              "      <td>Ever get the feeling your life circles the rou...</td>\n",
              "      <td>0</td>\n",
              "    </tr>\n",
              "    <tr>\n",
              "      <th>2</th>\n",
              "      <td>2</td>\n",
              "      <td>Why the Truth Might Get You Fired</td>\n",
              "      <td>Consortiumnews.com</td>\n",
              "      <td>Why the Truth Might Get You Fired October 29, ...</td>\n",
              "      <td>1</td>\n",
              "    </tr>\n",
              "    <tr>\n",
              "      <th>3</th>\n",
              "      <td>3</td>\n",
              "      <td>15 Civilians Killed In Single US Airstrike Hav...</td>\n",
              "      <td>Jessica Purkiss</td>\n",
              "      <td>Videos 15 Civilians Killed In Single US Airstr...</td>\n",
              "      <td>1</td>\n",
              "    </tr>\n",
              "    <tr>\n",
              "      <th>4</th>\n",
              "      <td>4</td>\n",
              "      <td>Iranian woman jailed for fictional unpublished...</td>\n",
              "      <td>Howard Portnoy</td>\n",
              "      <td>Print \\nAn Iranian woman has been sentenced to...</td>\n",
              "      <td>1</td>\n",
              "    </tr>\n",
              "    <tr>\n",
              "      <th>...</th>\n",
              "      <td>...</td>\n",
              "      <td>...</td>\n",
              "      <td>...</td>\n",
              "      <td>...</td>\n",
              "      <td>...</td>\n",
              "    </tr>\n",
              "    <tr>\n",
              "      <th>4995</th>\n",
              "      <td>5709</td>\n",
              "      <td>The Arcturian Group by Marilyn Raffaele Octobe...</td>\n",
              "      <td>stevew</td>\n",
              "      <td></td>\n",
              "      <td>1</td>\n",
              "    </tr>\n",
              "    <tr>\n",
              "      <th>4996</th>\n",
              "      <td>5710</td>\n",
              "      <td>Comment on Rachel Maddow declares that a Trump...</td>\n",
              "      <td>Anonymous</td>\n",
              "      <td>Posted on November 6, 2016 by DCG | 19 Comment...</td>\n",
              "      <td>1</td>\n",
              "    </tr>\n",
              "    <tr>\n",
              "      <th>4997</th>\n",
              "      <td>5713</td>\n",
              "      <td>HILLARY CLINTON is being funded by the same Mu...</td>\n",
              "      <td>BareNakedIslam</td>\n",
              "      <td>November 4, 2016 @ 4:48 pm \\nNow why am I not ...</td>\n",
              "      <td>1</td>\n",
              "    </tr>\n",
              "    <tr>\n",
              "      <th>4998</th>\n",
              "      <td>5714</td>\n",
              "      <td>Предикторские свойства толпы?</td>\n",
              "      <td>Евстахий Стахович</td>\n",
              "      <td>Паранормальное \\nПрофессор американского униве...</td>\n",
              "      <td>1</td>\n",
              "    </tr>\n",
              "    <tr>\n",
              "      <th>4999</th>\n",
              "      <td>5715</td>\n",
              "      <td>Even If You Hate Trump, What this Leftist Just...</td>\n",
              "      <td>C.E. Dyer</td>\n",
              "      <td>\\nFox News reported : \\nFive police officers a...</td>\n",
              "      <td>1</td>\n",
              "    </tr>\n",
              "  </tbody>\n",
              "</table>\n",
              "<p>5000 rows × 5 columns</p>\n",
              "</div>\n",
              "      <button class=\"colab-df-convert\" onclick=\"convertToInteractive('df-53cc850f-4a45-4aec-96b6-aeaf750ae34d')\"\n",
              "              title=\"Convert this dataframe to an interactive table.\"\n",
              "              style=\"display:none;\">\n",
              "        \n",
              "  <svg xmlns=\"http://www.w3.org/2000/svg\" height=\"24px\"viewBox=\"0 0 24 24\"\n",
              "       width=\"24px\">\n",
              "    <path d=\"M0 0h24v24H0V0z\" fill=\"none\"/>\n",
              "    <path d=\"M18.56 5.44l.94 2.06.94-2.06 2.06-.94-2.06-.94-.94-2.06-.94 2.06-2.06.94zm-11 1L8.5 8.5l.94-2.06 2.06-.94-2.06-.94L8.5 2.5l-.94 2.06-2.06.94zm10 10l.94 2.06.94-2.06 2.06-.94-2.06-.94-.94-2.06-.94 2.06-2.06.94z\"/><path d=\"M17.41 7.96l-1.37-1.37c-.4-.4-.92-.59-1.43-.59-.52 0-1.04.2-1.43.59L10.3 9.45l-7.72 7.72c-.78.78-.78 2.05 0 2.83L4 21.41c.39.39.9.59 1.41.59.51 0 1.02-.2 1.41-.59l7.78-7.78 2.81-2.81c.8-.78.8-2.07 0-2.86zM5.41 20L4 18.59l7.72-7.72 1.47 1.35L5.41 20z\"/>\n",
              "  </svg>\n",
              "      </button>\n",
              "      \n",
              "  <style>\n",
              "    .colab-df-container {\n",
              "      display:flex;\n",
              "      flex-wrap:wrap;\n",
              "      gap: 12px;\n",
              "    }\n",
              "\n",
              "    .colab-df-convert {\n",
              "      background-color: #E8F0FE;\n",
              "      border: none;\n",
              "      border-radius: 50%;\n",
              "      cursor: pointer;\n",
              "      display: none;\n",
              "      fill: #1967D2;\n",
              "      height: 32px;\n",
              "      padding: 0 0 0 0;\n",
              "      width: 32px;\n",
              "    }\n",
              "\n",
              "    .colab-df-convert:hover {\n",
              "      background-color: #E2EBFA;\n",
              "      box-shadow: 0px 1px 2px rgba(60, 64, 67, 0.3), 0px 1px 3px 1px rgba(60, 64, 67, 0.15);\n",
              "      fill: #174EA6;\n",
              "    }\n",
              "\n",
              "    [theme=dark] .colab-df-convert {\n",
              "      background-color: #3B4455;\n",
              "      fill: #D2E3FC;\n",
              "    }\n",
              "\n",
              "    [theme=dark] .colab-df-convert:hover {\n",
              "      background-color: #434B5C;\n",
              "      box-shadow: 0px 1px 3px 1px rgba(0, 0, 0, 0.15);\n",
              "      filter: drop-shadow(0px 1px 2px rgba(0, 0, 0, 0.3));\n",
              "      fill: #FFFFFF;\n",
              "    }\n",
              "  </style>\n",
              "\n",
              "      <script>\n",
              "        const buttonEl =\n",
              "          document.querySelector('#df-53cc850f-4a45-4aec-96b6-aeaf750ae34d button.colab-df-convert');\n",
              "        buttonEl.style.display =\n",
              "          google.colab.kernel.accessAllowed ? 'block' : 'none';\n",
              "\n",
              "        async function convertToInteractive(key) {\n",
              "          const element = document.querySelector('#df-53cc850f-4a45-4aec-96b6-aeaf750ae34d');\n",
              "          const dataTable =\n",
              "            await google.colab.kernel.invokeFunction('convertToInteractive',\n",
              "                                                     [key], {});\n",
              "          if (!dataTable) return;\n",
              "\n",
              "          const docLinkHtml = 'Like what you see? Visit the ' +\n",
              "            '<a target=\"_blank\" href=https://colab.research.google.com/notebooks/data_table.ipynb>data table notebook</a>'\n",
              "            + ' to learn more about interactive tables.';\n",
              "          element.innerHTML = '';\n",
              "          dataTable['output_type'] = 'display_data';\n",
              "          await google.colab.output.renderOutput(dataTable, element);\n",
              "          const docLink = document.createElement('div');\n",
              "          docLink.innerHTML = docLinkHtml;\n",
              "          element.appendChild(docLink);\n",
              "        }\n",
              "      </script>\n",
              "    </div>\n",
              "  </div>\n",
              "  "
            ],
            "text/plain": [
              "        id                                              title  \\\n",
              "0        0  House Dem Aide: We Didn’t Even See Comey’s Let...   \n",
              "1        1  FLYNN: Hillary Clinton, Big Woman on Campus - ...   \n",
              "2        2                  Why the Truth Might Get You Fired   \n",
              "3        3  15 Civilians Killed In Single US Airstrike Hav...   \n",
              "4        4  Iranian woman jailed for fictional unpublished...   \n",
              "...    ...                                                ...   \n",
              "4995  5709  The Arcturian Group by Marilyn Raffaele Octobe...   \n",
              "4996  5710  Comment on Rachel Maddow declares that a Trump...   \n",
              "4997  5713  HILLARY CLINTON is being funded by the same Mu...   \n",
              "4998  5714                      Предикторские свойства толпы?   \n",
              "4999  5715  Even If You Hate Trump, What this Leftist Just...   \n",
              "\n",
              "                  author                                               text  \\\n",
              "0          Darrell Lucus  House Dem Aide: We Didn’t Even See Comey’s Let...   \n",
              "1        Daniel J. Flynn  Ever get the feeling your life circles the rou...   \n",
              "2     Consortiumnews.com  Why the Truth Might Get You Fired October 29, ...   \n",
              "3        Jessica Purkiss  Videos 15 Civilians Killed In Single US Airstr...   \n",
              "4         Howard Portnoy  Print \\nAn Iranian woman has been sentenced to...   \n",
              "...                  ...                                                ...   \n",
              "4995              stevew                                                      \n",
              "4996           Anonymous  Posted on November 6, 2016 by DCG | 19 Comment...   \n",
              "4997      BareNakedIslam  November 4, 2016 @ 4:48 pm \\nNow why am I not ...   \n",
              "4998   Евстахий Стахович  Паранормальное \\nПрофессор американского униве...   \n",
              "4999           C.E. Dyer  \\nFox News reported : \\nFive police officers a...   \n",
              "\n",
              "      label  \n",
              "0         1  \n",
              "1         0  \n",
              "2         1  \n",
              "3         1  \n",
              "4         1  \n",
              "...     ...  \n",
              "4995      1  \n",
              "4996      1  \n",
              "4997      1  \n",
              "4998      1  \n",
              "4999      1  \n",
              "\n",
              "[5000 rows x 5 columns]"
            ]
          },
          "metadata": {},
          "execution_count": 1
        }
      ],
      "source": [
        "url = 'https://raw.githubusercontent.com/nishant-harinkhede12/Python-Codes-and-NLP/NLP/fake_news.csv'\n",
        "import pandas as pd\n",
        "df = pd.read_csv(url)\n",
        "df"
      ]
    },
    {
      "cell_type": "code",
      "source": [
        "df.isnull().sum()"
      ],
      "metadata": {
        "colab": {
          "base_uri": "https://localhost:8080/"
        },
        "id": "87_PtmqyIJII",
        "outputId": "c17a2d1f-2adb-4500-cb6b-0bde2c862d58"
      },
      "execution_count": 2,
      "outputs": [
        {
          "output_type": "execute_result",
          "data": {
            "text/plain": [
              "id        0\n",
              "title     0\n",
              "author    0\n",
              "text      0\n",
              "label     0\n",
              "dtype: int64"
            ]
          },
          "metadata": {},
          "execution_count": 2
        }
      ]
    },
    {
      "cell_type": "code",
      "source": [
        "X=df.drop('label',axis = 1)\n",
        "X.shape"
      ],
      "metadata": {
        "colab": {
          "base_uri": "https://localhost:8080/"
        },
        "id": "KIAQV2VbIOh9",
        "outputId": "8fc8432b-21ae-4622-b0d0-ce21349f491f"
      },
      "execution_count": 3,
      "outputs": [
        {
          "output_type": "execute_result",
          "data": {
            "text/plain": [
              "(5000, 4)"
            ]
          },
          "metadata": {},
          "execution_count": 3
        }
      ]
    },
    {
      "cell_type": "code",
      "source": [
        "y = df.label\n",
        "y.value_counts()"
      ],
      "metadata": {
        "colab": {
          "base_uri": "https://localhost:8080/"
        },
        "id": "m-rRZdpsI1vZ",
        "outputId": "668deb4e-ae7e-4068-a0da-5b7b5af315e6"
      },
      "execution_count": 4,
      "outputs": [
        {
          "output_type": "execute_result",
          "data": {
            "text/plain": [
              "0    2836\n",
              "1    2164\n",
              "Name: label, dtype: int64"
            ]
          },
          "metadata": {},
          "execution_count": 4
        }
      ]
    },
    {
      "cell_type": "code",
      "source": [
        "import tensorflow as tf\n",
        "print(tf.__version__)\n",
        "\n",
        "from tensorflow.keras.layers import Embedding\n",
        "from tensorflow.keras.preprocessing.sequence import pad_sequences #TO KEEP INPUT LENGTH OF SENTENCES FIXED/EQUAL\n",
        "from tensorflow.keras.models import Sequential #TO CREATE SEQUENTIAL MODEL\n",
        "from tensorflow.keras.preprocessing.text import one_hot #CONVERTING SENTENCES INTO ONE HOT REPRESENTATION, GIVEN VOCABLIRY SIZE\n",
        "from tensorflow.keras.layers import LSTM\n",
        "from tensorflow.keras.layers import Dense\n",
        "from tensorflow.keras.layers import Bidirectional\n",
        "from tensorflow.keras.layers import Dropout"
      ],
      "metadata": {
        "id": "UDxtV1dEJI8P",
        "colab": {
          "base_uri": "https://localhost:8080/"
        },
        "outputId": "e1f27140-3d55-4f66-ddb9-74bae3f4c2ea"
      },
      "execution_count": 5,
      "outputs": [
        {
          "output_type": "stream",
          "name": "stdout",
          "text": [
            "2.8.0\n"
          ]
        }
      ]
    },
    {
      "cell_type": "code",
      "source": [
        "  messages=X.copy()\n",
        "  messages['title'][0:5]"
      ],
      "metadata": {
        "colab": {
          "base_uri": "https://localhost:8080/"
        },
        "id": "V_GjaEbnJSQ0",
        "outputId": "038148d0-7f55-4f84-f1b1-1514d62e7b76"
      },
      "execution_count": 6,
      "outputs": [
        {
          "output_type": "execute_result",
          "data": {
            "text/plain": [
              "0    House Dem Aide: We Didn’t Even See Comey’s Let...\n",
              "1    FLYNN: Hillary Clinton, Big Woman on Campus - ...\n",
              "2                    Why the Truth Might Get You Fired\n",
              "3    15 Civilians Killed In Single US Airstrike Hav...\n",
              "4    Iranian woman jailed for fictional unpublished...\n",
              "Name: title, dtype: object"
            ]
          },
          "metadata": {},
          "execution_count": 6
        }
      ]
    },
    {
      "cell_type": "code",
      "source": [
        "import nltk\n",
        "import re\n",
        "from nltk.corpus import stopwords\n",
        "\n",
        "nltk.download('stopwords')\n",
        "nltk.download('wordnet')\n",
        "\n",
        "from nltk.stem import wordnet\n",
        "from nltk.stem import WordNetLemmatizer\n",
        "import re"
      ],
      "metadata": {
        "colab": {
          "base_uri": "https://localhost:8080/"
        },
        "id": "R-cz6CI2JnVm",
        "outputId": "25da6799-6e58-42da-a7f0-246feeacba76"
      },
      "execution_count": 7,
      "outputs": [
        {
          "output_type": "stream",
          "name": "stdout",
          "text": [
            "[nltk_data] Downloading package stopwords to /root/nltk_data...\n",
            "[nltk_data]   Unzipping corpora/stopwords.zip.\n",
            "[nltk_data] Downloading package wordnet to /root/nltk_data...\n",
            "[nltk_data]   Unzipping corpora/wordnet.zip.\n"
          ]
        }
      ]
    },
    {
      "cell_type": "code",
      "source": [
        "#DATA PREPROCESSING\n",
        "from nltk.corpus import stopwords\n",
        "# from nltk.stem.porter import PorterStemmer\n",
        "# ps = PorterStemmer()\n",
        "wordnet=WordNetLemmatizer()\n",
        "corpus = []\n",
        "for i in range(0, len(messages)):\n",
        "    review = re.sub('[^a-zA-Z]', ' ', messages['title'][i])\n",
        "    review = review.lower()\n",
        "    review = review.split()\n",
        "    \n",
        "    # review = [ps.stem(word) for word in review if not word in stopwords.words('english')]\n",
        "    review = [wordnet.lemmatize(word) for word in review if not word in stopwords.words('english')]\n",
        "    review = ' '.join(review)\n",
        "    corpus.append(review)"
      ],
      "metadata": {
        "id": "9mCdbToBKFhF"
      },
      "execution_count": 8,
      "outputs": []
    },
    {
      "cell_type": "code",
      "source": [
        "corpus[0:25]"
      ],
      "metadata": {
        "colab": {
          "base_uri": "https://localhost:8080/"
        },
        "id": "aZDMm6ZrKv5_",
        "outputId": "f18ea94d-7f85-4077-ffac-cd65c05d38b8"
      },
      "execution_count": 20,
      "outputs": [
        {
          "output_type": "execute_result",
          "data": {
            "text/plain": [
              "['house dem aide even see comey letter jason chaffetz tweeted',\n",
              " 'flynn hillary clinton big woman campus breitbart',\n",
              " 'truth might get fired',\n",
              " 'civilian killed single u airstrike identified',\n",
              " 'iranian woman jailed fictional unpublished story woman stoned death adultery',\n",
              " 'jackie mason hollywood would love trump bombed north korea lack trans bathroom exclusive video breitbart',\n",
              " 'beno hamon win french socialist party presidential nomination new york time',\n",
              " 'back channel plan ukraine russia courtesy trump associate new york time',\n",
              " 'obama organizing action partner soros linked indivisible disrupt trump agenda',\n",
              " 'bbc comedy sketch real housewife isi cause outrage',\n",
              " 'russian researcher discover secret nazi military base treasure hunter arctic photo',\n",
              " 'u official see link trump russia',\n",
              " 'yes paid government troll social medium blog forum website',\n",
              " 'major league soccer argentine find home success new york time',\n",
              " 'well fargo chief abruptly step new york time',\n",
              " 'anonymous donor pay million release everyone arrested dakota access pipeline',\n",
              " 'fbi close hillary',\n",
              " 'chuck todd buzzfeed donald trump political favor breitbart',\n",
              " 'monica lewinsky clinton sex scandal set american crime story',\n",
              " 'rob reiner trump mentally unstable breitbart',\n",
              " 'abortion pill order rise latin american nation zika alert new york time',\n",
              " 'nuke un historic treaty ban nuclear weapon',\n",
              " 'exclusive islamic state supporter vow shake west following manchester terrorist massacre breitbart',\n",
              " 'humiliated hillary try hide camera caught min rally',\n",
              " 'andrea tantaros fox news claim retaliation sex harassment complaint new york time']"
            ]
          },
          "metadata": {},
          "execution_count": 20
        }
      ]
    },
    {
      "cell_type": "code",
      "source": [
        "#VOCABLIERY SIZE, 10000/5000/....\n",
        "voc_size = 5000\n",
        "onehot_repr=[one_hot(words,voc_size)for words in corpus] \n",
        "onehot_repr[:25]"
      ],
      "metadata": {
        "colab": {
          "base_uri": "https://localhost:8080/"
        },
        "id": "x5ubxLxxK3bA",
        "outputId": "8cedd917-952c-4174-f5e1-93eb4458099b"
      },
      "execution_count": 23,
      "outputs": [
        {
          "output_type": "execute_result",
          "data": {
            "text/plain": [
              "[[2907, 2414, 1735, 1024, 1692, 3446, 4341, 461, 4904, 2955],\n",
              " [2566, 570, 882, 4078, 922, 2564, 1338],\n",
              " [2326, 2193, 4221, 437],\n",
              " [4117, 2906, 2186, 1927, 390, 290],\n",
              " [1763, 922, 4960, 3245, 2640, 3885, 922, 3339, 3244, 2463],\n",
              " [3986,\n",
              "  870,\n",
              "  3260,\n",
              "  4243,\n",
              "  1049,\n",
              "  3801,\n",
              "  690,\n",
              "  2441,\n",
              "  3942,\n",
              "  4736,\n",
              "  570,\n",
              "  2414,\n",
              "  4049,\n",
              "  3523,\n",
              "  1338],\n",
              " [177, 2388, 711, 4200, 3190, 711, 2631, 1658, 3430, 1677, 2092],\n",
              " [92, 1125, 1637, 2892, 1961, 1387, 3801, 743, 3430, 1677, 2092],\n",
              " [1101, 1455, 3254, 4599, 1418, 4479, 1299, 1585, 3801, 1117],\n",
              " [2135, 3059, 4938, 1019, 2894, 2409, 3383, 472],\n",
              " [3079, 678, 340, 627, 4860, 141, 2918, 444, 3270, 1606, 984],\n",
              " [1927, 1976, 1692, 4324, 3801, 1961],\n",
              " [1036, 1516, 4169, 1059, 1574, 4263, 4545, 1934, 1964],\n",
              " [1975, 3106, 3849, 4071, 3628, 711, 4303, 3430, 1677, 2092],\n",
              " [4101, 585, 1228, 2857, 2170, 3430, 1677, 2092],\n",
              " [3351, 4542, 4233, 1402, 926, 2495, 4436, 3597, 4439, 2833],\n",
              " [4009, 49, 570],\n",
              " [725, 2990, 4753, 1332, 3801, 287, 2022, 1338],\n",
              " [4156, 4560, 882, 1594, 187, 1712, 4522, 4547, 3885],\n",
              " [2971, 3266, 3801, 2166, 3763, 1338],\n",
              " [3251, 1880, 3282, 4793, 3570, 4522, 279, 648, 1431, 3430, 1677, 2092],\n",
              " [731, 1644, 4228, 2934, 1809, 4542, 2919],\n",
              " [4049, 1250, 1682, 3863, 4741, 906, 510, 4034, 2434, 1487, 1210, 1338],\n",
              " [3350, 570, 513, 495, 2544, 1068, 1957, 3237],\n",
              " [2367, 3530, 4289, 1955, 140, 3640, 1594, 652, 409, 3430, 1677, 2092]]"
            ]
          },
          "metadata": {},
          "execution_count": 23
        }
      ]
    },
    {
      "cell_type": "markdown",
      "source": [
        "# Embedding Representation"
      ],
      "metadata": {
        "id": "fdeyRVmVLfxs"
      }
    },
    {
      "cell_type": "code",
      "source": [
        "#BEFORE GIVING ABOVE SENTENCES INTO EMBEDDING LAYER, WE HAVE TO MAKE LENGTH OF SENTENCES FIXED\n",
        "sent_length=20\n",
        "embedded_docs=pad_sequences(onehot_repr,padding='pre',maxlen=sent_length)\n",
        "print(embedded_docs[0:15])"
      ],
      "metadata": {
        "colab": {
          "base_uri": "https://localhost:8080/"
        },
        "id": "4bPtUXYyLd8S",
        "outputId": "35d7af26-fd42-4862-a204-ab0ea235fbac"
      },
      "execution_count": 24,
      "outputs": [
        {
          "output_type": "stream",
          "name": "stdout",
          "text": [
            "[[   0    0    0    0    0    0    0    0    0    0 2907 2414 1735 1024\n",
            "  1692 3446 4341  461 4904 2955]\n",
            " [   0    0    0    0    0    0    0    0    0    0    0    0    0 2566\n",
            "   570  882 4078  922 2564 1338]\n",
            " [   0    0    0    0    0    0    0    0    0    0    0    0    0    0\n",
            "     0    0 2326 2193 4221  437]\n",
            " [   0    0    0    0    0    0    0    0    0    0    0    0    0    0\n",
            "  4117 2906 2186 1927  390  290]\n",
            " [   0    0    0    0    0    0    0    0    0    0 1763  922 4960 3245\n",
            "  2640 3885  922 3339 3244 2463]\n",
            " [   0    0    0    0    0 3986  870 3260 4243 1049 3801  690 2441 3942\n",
            "  4736  570 2414 4049 3523 1338]\n",
            " [   0    0    0    0    0    0    0    0    0  177 2388  711 4200 3190\n",
            "   711 2631 1658 3430 1677 2092]\n",
            " [   0    0    0    0    0    0    0    0    0   92 1125 1637 2892 1961\n",
            "  1387 3801  743 3430 1677 2092]\n",
            " [   0    0    0    0    0    0    0    0    0    0 1101 1455 3254 4599\n",
            "  1418 4479 1299 1585 3801 1117]\n",
            " [   0    0    0    0    0    0    0    0    0    0    0    0 2135 3059\n",
            "  4938 1019 2894 2409 3383  472]\n",
            " [   0    0    0    0    0    0    0    0    0 3079  678  340  627 4860\n",
            "   141 2918  444 3270 1606  984]\n",
            " [   0    0    0    0    0    0    0    0    0    0    0    0    0    0\n",
            "  1927 1976 1692 4324 3801 1961]\n",
            " [   0    0    0    0    0    0    0    0    0    0    0 1036 1516 4169\n",
            "  1059 1574 4263 4545 1934 1964]\n",
            " [   0    0    0    0    0    0    0    0    0    0 1975 3106 3849 4071\n",
            "  3628  711 4303 3430 1677 2092]\n",
            " [   0    0    0    0    0    0    0    0    0    0    0    0 4101  585\n",
            "  1228 2857 2170 3430 1677 2092]]\n"
          ]
        }
      ]
    },
    {
      "cell_type": "code",
      "source": [
        "embedded_docs[0:15]"
      ],
      "metadata": {
        "colab": {
          "base_uri": "https://localhost:8080/"
        },
        "id": "2UkvLgi-LosX",
        "outputId": "349b6664-9a90-4b81-ba1b-d626f080e265"
      },
      "execution_count": 25,
      "outputs": [
        {
          "output_type": "execute_result",
          "data": {
            "text/plain": [
              "array([[   0,    0,    0,    0,    0,    0,    0,    0,    0,    0, 2907,\n",
              "        2414, 1735, 1024, 1692, 3446, 4341,  461, 4904, 2955],\n",
              "       [   0,    0,    0,    0,    0,    0,    0,    0,    0,    0,    0,\n",
              "           0,    0, 2566,  570,  882, 4078,  922, 2564, 1338],\n",
              "       [   0,    0,    0,    0,    0,    0,    0,    0,    0,    0,    0,\n",
              "           0,    0,    0,    0,    0, 2326, 2193, 4221,  437],\n",
              "       [   0,    0,    0,    0,    0,    0,    0,    0,    0,    0,    0,\n",
              "           0,    0,    0, 4117, 2906, 2186, 1927,  390,  290],\n",
              "       [   0,    0,    0,    0,    0,    0,    0,    0,    0,    0, 1763,\n",
              "         922, 4960, 3245, 2640, 3885,  922, 3339, 3244, 2463],\n",
              "       [   0,    0,    0,    0,    0, 3986,  870, 3260, 4243, 1049, 3801,\n",
              "         690, 2441, 3942, 4736,  570, 2414, 4049, 3523, 1338],\n",
              "       [   0,    0,    0,    0,    0,    0,    0,    0,    0,  177, 2388,\n",
              "         711, 4200, 3190,  711, 2631, 1658, 3430, 1677, 2092],\n",
              "       [   0,    0,    0,    0,    0,    0,    0,    0,    0,   92, 1125,\n",
              "        1637, 2892, 1961, 1387, 3801,  743, 3430, 1677, 2092],\n",
              "       [   0,    0,    0,    0,    0,    0,    0,    0,    0,    0, 1101,\n",
              "        1455, 3254, 4599, 1418, 4479, 1299, 1585, 3801, 1117],\n",
              "       [   0,    0,    0,    0,    0,    0,    0,    0,    0,    0,    0,\n",
              "           0, 2135, 3059, 4938, 1019, 2894, 2409, 3383,  472],\n",
              "       [   0,    0,    0,    0,    0,    0,    0,    0,    0, 3079,  678,\n",
              "         340,  627, 4860,  141, 2918,  444, 3270, 1606,  984],\n",
              "       [   0,    0,    0,    0,    0,    0,    0,    0,    0,    0,    0,\n",
              "           0,    0,    0, 1927, 1976, 1692, 4324, 3801, 1961],\n",
              "       [   0,    0,    0,    0,    0,    0,    0,    0,    0,    0,    0,\n",
              "        1036, 1516, 4169, 1059, 1574, 4263, 4545, 1934, 1964],\n",
              "       [   0,    0,    0,    0,    0,    0,    0,    0,    0,    0, 1975,\n",
              "        3106, 3849, 4071, 3628,  711, 4303, 3430, 1677, 2092],\n",
              "       [   0,    0,    0,    0,    0,    0,    0,    0,    0,    0,    0,\n",
              "           0, 4101,  585, 1228, 2857, 2170, 3430, 1677, 2092]],\n",
              "      dtype=int32)"
            ]
          },
          "metadata": {},
          "execution_count": 25
        }
      ]
    },
    {
      "cell_type": "markdown",
      "source": [
        "## Creating model"
      ],
      "metadata": {
        "id": "Yod1jTjBReve"
      }
    },
    {
      "cell_type": "code",
      "source": [
        "embedding_vector_features=40\n",
        "model=Sequential()\n",
        "model.add(Embedding(voc_size,embedding_vector_features,input_length=sent_length))\n",
        "model.add(LSTM(100))\n",
        "model.add(Dense(1,activation='sigmoid'))#AS THIS IS CLASSIFICATION PROBLEM\n",
        "model.compile(loss='binary_crossentropy',optimizer='adam',metrics=['accuracy'])\n",
        "print(model.summary())"
      ],
      "metadata": {
        "colab": {
          "base_uri": "https://localhost:8080/"
        },
        "id": "-FnnnnKsRjnH",
        "outputId": "b26dd12a-fa66-4355-a3a6-74f07565b928"
      },
      "execution_count": 13,
      "outputs": [
        {
          "output_type": "stream",
          "name": "stdout",
          "text": [
            "Model: \"sequential\"\n",
            "_________________________________________________________________\n",
            " Layer (type)                Output Shape              Param #   \n",
            "=================================================================\n",
            " embedding (Embedding)       (None, 20, 40)            200000    \n",
            "                                                                 \n",
            " lstm (LSTM)                 (None, 100)               56400     \n",
            "                                                                 \n",
            " dense (Dense)               (None, 1)                 101       \n",
            "                                                                 \n",
            "=================================================================\n",
            "Total params: 256,501\n",
            "Trainable params: 256,501\n",
            "Non-trainable params: 0\n",
            "_________________________________________________________________\n",
            "None\n"
          ]
        }
      ]
    },
    {
      "cell_type": "code",
      "source": [
        "embedding_vector_features=40\n",
        "model1=Sequential()\n",
        "model1.add(Embedding(voc_size,embedding_vector_features,input_length=sent_length))\n",
        "model1.add(Bidirectional(LSTM(100))) #*****\n",
        "model1.add(Dropout(0.3))\n",
        "model1.add(Dense(1,activation='sigmoid'))\n",
        "model1.compile(loss='binary_crossentropy',optimizer='adam',metrics=['accuracy'])\n",
        "print(model1.summary())"
      ],
      "metadata": {
        "colab": {
          "base_uri": "https://localhost:8080/"
        },
        "id": "cQogb8SXRnxv",
        "outputId": "30d996b7-7aac-41c4-9cac-ad320890821f"
      },
      "execution_count": 14,
      "outputs": [
        {
          "output_type": "stream",
          "name": "stdout",
          "text": [
            "Model: \"sequential_1\"\n",
            "_________________________________________________________________\n",
            " Layer (type)                Output Shape              Param #   \n",
            "=================================================================\n",
            " embedding_1 (Embedding)     (None, 20, 40)            200000    \n",
            "                                                                 \n",
            " bidirectional (Bidirectiona  (None, 200)              112800    \n",
            " l)                                                              \n",
            "                                                                 \n",
            " dropout (Dropout)           (None, 200)               0         \n",
            "                                                                 \n",
            " dense_1 (Dense)             (None, 1)                 201       \n",
            "                                                                 \n",
            "=================================================================\n",
            "Total params: 313,001\n",
            "Trainable params: 313,001\n",
            "Non-trainable params: 0\n",
            "_________________________________________________________________\n",
            "None\n"
          ]
        }
      ]
    },
    {
      "cell_type": "code",
      "source": [
        "import numpy as np\n",
        "X_final=np.array(embedded_docs)\n",
        "y_final=np.array(y)\n",
        "\n",
        "from sklearn.model_selection import train_test_split\n",
        "X_train, X_test, y_train, y_test = train_test_split(X_final, y_final, test_size=0.33, random_state=42)"
      ],
      "metadata": {
        "id": "RA51NnW-R4np"
      },
      "execution_count": 15,
      "outputs": []
    },
    {
      "cell_type": "markdown",
      "source": [
        "### Finally Training"
      ],
      "metadata": {
        "id": "Ik5L6YsFSFsD"
      }
    },
    {
      "cell_type": "code",
      "source": [
        "model1.fit(X_train,y_train,validation_data=(X_test,y_test),epochs=10,batch_size=64)"
      ],
      "metadata": {
        "colab": {
          "base_uri": "https://localhost:8080/"
        },
        "id": "iCu5F6XgSEyF",
        "outputId": "de932886-a9fd-4719-8132-dd10124943e5"
      },
      "execution_count": 16,
      "outputs": [
        {
          "output_type": "stream",
          "name": "stdout",
          "text": [
            "Epoch 1/10\n",
            "53/53 [==============================] - 11s 111ms/step - loss: 0.5510 - accuracy: 0.6904 - val_loss: 0.2541 - val_accuracy: 0.8891\n",
            "Epoch 2/10\n",
            "53/53 [==============================] - 4s 77ms/step - loss: 0.1687 - accuracy: 0.9391 - val_loss: 0.2445 - val_accuracy: 0.8958\n",
            "Epoch 3/10\n",
            "53/53 [==============================] - 4s 70ms/step - loss: 0.0590 - accuracy: 0.9821 - val_loss: 0.3090 - val_accuracy: 0.9024\n",
            "Epoch 4/10\n",
            "53/53 [==============================] - 6s 106ms/step - loss: 0.0188 - accuracy: 0.9949 - val_loss: 0.4378 - val_accuracy: 0.8903\n",
            "Epoch 5/10\n",
            "53/53 [==============================] - 3s 59ms/step - loss: 0.0105 - accuracy: 0.9973 - val_loss: 0.5102 - val_accuracy: 0.8855\n",
            "Epoch 6/10\n",
            "53/53 [==============================] - 3s 53ms/step - loss: 0.0067 - accuracy: 0.9982 - val_loss: 0.5943 - val_accuracy: 0.8824\n",
            "Epoch 7/10\n",
            "53/53 [==============================] - 3s 56ms/step - loss: 0.0045 - accuracy: 0.9988 - val_loss: 0.4937 - val_accuracy: 0.8867\n",
            "Epoch 8/10\n",
            "53/53 [==============================] - 3s 51ms/step - loss: 0.0023 - accuracy: 0.9997 - val_loss: 0.7186 - val_accuracy: 0.8642\n",
            "Epoch 9/10\n",
            "53/53 [==============================] - 3s 52ms/step - loss: 0.0056 - accuracy: 0.9976 - val_loss: 0.5517 - val_accuracy: 0.8964\n",
            "Epoch 10/10\n",
            "53/53 [==============================] - 3s 51ms/step - loss: 9.6512e-04 - accuracy: 0.9997 - val_loss: 0.7230 - val_accuracy: 0.8830\n"
          ]
        },
        {
          "output_type": "execute_result",
          "data": {
            "text/plain": [
              "<keras.callbacks.History at 0x7f97b0a8eb90>"
            ]
          },
          "metadata": {},
          "execution_count": 16
        }
      ]
    },
    {
      "cell_type": "code",
      "source": [
        "y_pred1=model1.predict(X_test)"
      ],
      "metadata": {
        "id": "xg2701yzSMqs"
      },
      "execution_count": 17,
      "outputs": []
    },
    {
      "cell_type": "code",
      "source": [
        "from sklearn.metrics import confusion_matrix\n",
        "y_pred1 = y_pred1.astype('int64')\n",
        "confusion_matrix(y_test,y_pred1)"
      ],
      "metadata": {
        "colab": {
          "base_uri": "https://localhost:8080/"
        },
        "id": "eG1sjmQbSRz2",
        "outputId": "bd6b8486-b9d5-40c0-fccf-5389602fae2f"
      },
      "execution_count": 18,
      "outputs": [
        {
          "output_type": "execute_result",
          "data": {
            "text/plain": [
              "array([[916,   0],\n",
              "       [734,   0]])"
            ]
          },
          "metadata": {},
          "execution_count": 18
        }
      ]
    },
    {
      "cell_type": "code",
      "source": [
        "from sklearn.metrics import accuracy_score\n",
        "print(accuracy_score(y_test,y_pred1))\n",
        "\n",
        "from sklearn.metrics import classification_report\n",
        "print(classification_report(y_test,y_pred1))"
      ],
      "metadata": {
        "colab": {
          "base_uri": "https://localhost:8080/"
        },
        "id": "A5t3ZX0pTLrA",
        "outputId": "f8b0e31b-b2e0-4543-a7a1-7f3821ffaf93"
      },
      "execution_count": 19,
      "outputs": [
        {
          "output_type": "stream",
          "name": "stdout",
          "text": [
            "0.5551515151515152\n",
            "              precision    recall  f1-score   support\n",
            "\n",
            "           0       0.56      1.00      0.71       916\n",
            "           1       0.00      0.00      0.00       734\n",
            "\n",
            "    accuracy                           0.56      1650\n",
            "   macro avg       0.28      0.50      0.36      1650\n",
            "weighted avg       0.31      0.56      0.40      1650\n",
            "\n"
          ]
        },
        {
          "output_type": "stream",
          "name": "stderr",
          "text": [
            "/usr/local/lib/python3.7/dist-packages/sklearn/metrics/_classification.py:1318: UndefinedMetricWarning: Precision and F-score are ill-defined and being set to 0.0 in labels with no predicted samples. Use `zero_division` parameter to control this behavior.\n",
            "  _warn_prf(average, modifier, msg_start, len(result))\n",
            "/usr/local/lib/python3.7/dist-packages/sklearn/metrics/_classification.py:1318: UndefinedMetricWarning: Precision and F-score are ill-defined and being set to 0.0 in labels with no predicted samples. Use `zero_division` parameter to control this behavior.\n",
            "  _warn_prf(average, modifier, msg_start, len(result))\n",
            "/usr/local/lib/python3.7/dist-packages/sklearn/metrics/_classification.py:1318: UndefinedMetricWarning: Precision and F-score are ill-defined and being set to 0.0 in labels with no predicted samples. Use `zero_division` parameter to control this behavior.\n",
            "  _warn_prf(average, modifier, msg_start, len(result))\n"
          ]
        }
      ]
    }
  ]
}